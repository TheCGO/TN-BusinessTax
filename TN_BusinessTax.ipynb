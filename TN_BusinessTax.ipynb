{
 "cells": [
  {
   "cell_type": "markdown",
   "metadata": {
    "id": "EIBsVBIXc7Q8"
   },
   "source": [
    "# Simulating the Effects of TN Business Tax Reform on Investment Incentives\n",
    "### Jason DeBacker and Richard W. Evans, December 22, 2022\n",
    "\n",
    "Important features of TN business tax system:\n",
    "* 3 components:\n",
    "  1. \"Excise Tax\"\n",
    "    * Essentailly a CIT\n",
    "    * Rate is 6.5%\n",
    "    * Depreciation handled under same rules as IRC *EXCEPT* no bonus depreciation.\n",
    "  2. Franchise tax\n",
    "    * Tax on the value of assets of the business\n",
    "    * Rate is 0.26%\n",
    "  3. Business tax\n",
    "    * Tax on the gross receipts of the business\n",
    "    * Some industries (e.g., utilities) handled differently\n",
    "    * Rate varies (see [here, p. 62](https://www.tn.gov/content/dam/tn/revenue/documents/tax_manuals/august-2022/Business-Tax.pdf))\n",
    "      * Varies between 0.02% and 0.3% (depends on industry)\n",
    "\n",
    "\n",
    "  Computing the cost-of-capital at the state-level:\n",
    "  * the statutory rate used will be the sum of the federal and state CIT\n",
    "    * But can deduct state taxes at federal level\n",
    "    * So maybe rate is Fed Rate + State rate - fed rate * state rate?\n",
    "  * franchise tax can use the wealth tax parameter in CCC\n",
    "  * The interaction of state and federal is not something I want to rush into CCC, so we'll do most of the calculations here by functions defined in this notebook (with a bit of assistance from a couple CCC functions.\n",
    "\n",
    "\n",
    "Equation for the cost of capital at when considering state taxes in TN:\n",
    "$$\n",
    "\\rho = \\left[\\frac{(r-\\pi-\\delta)(1-k)(1-u^fz^f-u^sz^s + u^fu^sz^s)}{(1-u^f-u^s+u^fu^s)} + w \\right] / (1-\\tau^{GR})\n",
    "$$\n",
    "where:\n",
    "* $\\rho$ = the cost of capital\n",
    "* $r$ =the nominal discount rate\n",
    "* $\\pi$ = the inflation rate\n",
    "* $k$ = the investment tax credit rate\n",
    "* $u^f$ = the statutory CIT rate at the federal level \n",
    "* $u^s$ = the statutory CIT rate at the state level \n",
    "* $z^f$ = the NPV of depreciation deduction under federal system\n",
    "* $z^s$ = the NPV of depreciation deduction under state system\n",
    "* $w$ = the property tax rate\n",
    "* $\\tau^{GR}$ = the gross receipts tax rate\n",
    "\n",
    "Calibration:\n",
    "\n",
    "| Parameter     | Value | Source |\n",
    "| ----------- | ----------- |----------- |\n",
    "| $r$     | 0.06      | To give real return of 4\\%|\n",
    "| $\\pi$  | 0.02      | Fed target|\n",
    "| $k$  | 0.0        | No general invest tax credit at federal or state level|\n",
    "| $u^f$  | 0.21       | Federal IRC|\n",
    "| $u^s$  | 0.065       | Excise tax rate in TN law|\n",
    "| $z^f$  | Varies        | Federal IRC|\n",
    "| $z^s$  |   Varies      | Like Federal IRC, but no bonus deprec|\n",
    "| $w$  | 0.0026       | Franchise tax rate in TN law |\n",
    "| $\\tau^{GR}$  | 0.0002-0.003       | Bus tax rate in TN law|\n",
    "\n"
   ]
  },
  {
   "cell_type": "code",
   "execution_count": null,
   "metadata": {
    "id": "_t-_pFeOZCDR"
   },
   "outputs": [],
   "source": [
    "!pip install cost-of-capital-calculator &> /dev/null\n",
    "!pip install taxcalc &> /dev/null \n",
    "!pip install bokeh &> /dev/null"
   ]
  },
  {
   "cell_type": "markdown",
   "metadata": {
    "id": "2qmfg6kv8WHN"
   },
   "source": [
    "Now we'll import the Python packages and modules we'll work with:"
   ]
  },
  {
   "cell_type": "code",
   "execution_count": null,
   "metadata": {
    "id": "Tas5ZFKxbgCA"
   },
   "outputs": [],
   "source": [
    "# imports\n",
    "import ccc\n",
    "import taxcalc as tc\n",
    "import numpy as np\n",
    "import pandas as pd\n",
    "import plotly.express as px\n",
    "import plotly.io as pio\n",
    "# set template for plotting\n",
    "pio.templates.default = \"plotly_white\""
   ]
  },
  {
   "cell_type": "markdown",
   "metadata": {
    "id": "FPc-vbli8fsb"
   },
   "source": [
    "## Setup\n",
    "\n",
    "Create objects to work with"
   ]
  },
  {
   "cell_type": "code",
   "execution_count": null,
   "metadata": {
    "id": "g-V3V27Rc4Bo"
   },
   "outputs": [],
   "source": [
    "# Creating an instance of the Assets class and call it \"assets\"\n",
    "assets = ccc.data.Assets()\n",
    "# Create an instance of the DepreciationParams\n",
    "# class object and call it dp\n",
    "dp = ccc.parameters.DepreciationParams()"
   ]
  },
  {
   "cell_type": "code",
   "execution_count": null,
   "metadata": {
    "id": "7DDWmsRDowWK"
   },
   "outputs": [],
   "source": [
    "# define new cost of capital function to take into account state taxes\n",
    "def eq_coc_state(delta, z_f, z_s, w, u_f, u_s, tau_GR, inv_tax_credit, pi, r):\n",
    "    r'''\n",
    "    Compute the cost of capital\n",
    "    .. math::\n",
    "        \\rho = \\frac{\\frac{(r-\\pi+\\delta)}{1-u^f-u^s+u^fu^s}(1-u^fz^f-u^sz^s+u^fu^sz^s)+w}{(1-\\tau^GR)}-\\delta\n",
    "    Args:\n",
    "        delta (array_like): rate of economic depreciation\n",
    "        z_f (array_like): net present value of depreciation deductions for\n",
    "            $1 of investment under the federal system\n",
    "        z_s (array_like): net present value of depreciation deductions for\n",
    "            $1 of investment under the state system\n",
    "        w (scalar): property tax rate\n",
    "        u_f (scalar): statutory marginal tax rate for the first layer of\n",
    "            income taxes at the federal level\n",
    "        u_s (scalar): statutory marginal tax rate for the first layer of\n",
    "            income taxes at the state level\n",
    "        tau_GR (scalar): gross receipts tax\n",
    "        inv_tax_credit (scalar): investment tax credit rate\n",
    "        pi (scalar): inflation rate\n",
    "        r (scalar): discount rate\n",
    "    Returns:\n",
    "        rho (array_like): the cost of capital\n",
    "    '''\n",
    "    rho = (((((r - pi + delta) / (1 - u_f - u_s + u_f * u_s)) *\n",
    "           (1 - inv_tax_credit - u_f * z_f - u_s * z_s) + w) / (1 - tau_GR)) - delta)\n",
    "\n",
    "    return rho"
   ]
  },
  {
   "cell_type": "code",
   "execution_count": null,
   "metadata": {
    "id": "gQahy5bAAuzv"
   },
   "outputs": [],
   "source": [
    "# Define model parameters\n",
    "inflation_rate = 0.02 # Inflation rate\n",
    "nominal_int_rate = 0.06\n",
    "fraction_financed_w_debt = 0.0\n",
    "federal_bonus_depreciation = {\"machines\": 1.0, \"buildings\": 0.0, \"intangibles\": 1.0}\n",
    "depreciation_rates = {\"machines\": 0.1031, \"buildings\": 0.0314, \"intangibles\": 0.33}\n",
    "# Example machine: EI40, example building: SI00, example intangible: ENS3\n",
    "depreciation_lives = {\"machines\": 7, \"buildings\": 39, \"intangibles\": 3}\n",
    "depreciation_methods = {\"machines\": \"dbsl\", \"buildings\": \"sl\", \"intangibles\": \"sl\"}\n",
    "E = 0.06  # Expected after-tax return on corporate equity\n",
    "profit_rate = 0.2 # 0.2 is a 20% profit rate\n",
    "int_haircut = 0.0\n",
    "u_f = 0.21\n",
    "u_s = 0.065\n",
    "franchise_tax_rate = 0.0026\n",
    "tau_GR = 0.003 # this is the higher end 0.0002-0.003 is what TF reports, varies by industry\n",
    "inv_tax_credit = 0.0\n",
    "bonus_s = {\"machines\": 0.0, \"buildings\": 0.0, \"intangibles\": 0.0}\n"
   ]
  },
  {
   "cell_type": "code",
   "execution_count": null,
   "metadata": {
    "id": "O42yHQtvTU23"
   },
   "outputs": [],
   "source": [
    "# compute outputs\n",
    "def compute_outputs(u_s, bonus_s, franchise_tax_rate, tau_GR):\n",
    "    \"\"\"\n",
    "    This function computes the outputs of interest and allows one to change the\n",
    "    parameters of TN state law\n",
    "\n",
    "    Args:\n",
    "      u_s (scalar): statutory marginal tax rate for the first layer of\n",
    "            income taxes at the state level\n",
    "      bonus_s (dict): rates of bonus depreciation in TN by asset type\n",
    "      franchise_tax_rate (scalar): TN franchise tax\n",
    "      tau_GR (scalar): gross receipts tax\n",
    "    \"\"\"\n",
    "    out_dict = {\"machines\": {}, \"buildings\": {}, \"intangibles\": {}}\n",
    "    for k, v in depreciation_rates.items():\n",
    "        r = ccc.paramfunctions.calc_r(\n",
    "            u_f + u_s - u_f * u_s, nominal_int_rate, inflation_rate,\n",
    "            nominal_int_rate, fraction_financed_w_debt, int_haircut, E, 0.0)\n",
    "        r_prime = ccc.paramfunctions.calc_r_prime(\n",
    "            nominal_int_rate, inflation_rate, fraction_financed_w_debt, E)\n",
    "        if depreciation_methods[k] == \"dbsl\":\n",
    "            z_f = ccc.calcfunctions.dbsl(depreciation_lives[k], 2, federal_bonus_depreciation[k], r)\n",
    "            z_s = ccc.calcfunctions.dbsl(depreciation_lives[k], 2, bonus_s[k], r) \n",
    "        elif depreciation_methods[k] == \"sl\":\n",
    "            z_f = ccc.calcfunctions.sl(depreciation_lives[k], federal_bonus_depreciation[k], r)\n",
    "            z_s = ccc.calcfunctions.sl(depreciation_lives[k], bonus_s[k], r) \n",
    "        else:\n",
    "          print(\"Please enter one of: dbsl, sl\")\n",
    "          assert False\n",
    "        rho = eq_coc_state(\n",
    "                depreciation_rates[k], z_f, z_s, franchise_tax_rate,\n",
    "                u_f, u_s, tau_GR, inv_tax_credit, inflation_rate, r)\n",
    "        metr = ccc.calcfunctions.eq_metr(rho, r_prime, inflation_rate)\n",
    "        eatr = ccc.calcfunctions.eq_eatr(rho, metr, profit_rate, u_f + u_f - u_f * u_s)\n",
    "        out_dict[k][\"rho\"] = rho\n",
    "        out_dict[k][\"metr\"] = metr\n",
    "        out_dict[k][\"eatr\"] = eatr\n",
    "    return out_dict"
   ]
  },
  {
   "cell_type": "code",
   "execution_count": null,
   "metadata": {
    "id": "C37mzRCgUtav"
   },
   "outputs": [],
   "source": [
    "base_df = pd.DataFrame(compute_outputs(u_s, bonus_s, franchise_tax_rate, tau_GR))\n",
    "repealGR_df = pd.DataFrame(compute_outputs(u_s, bonus_s, franchise_tax_rate, 0.0))\n",
    "fedbonus_df = pd.DataFrame(compute_outputs(u_s, federal_bonus_depreciation, franchise_tax_rate, tau_GR))\n",
    "repealFT_df = pd.DataFrame(compute_outputs(u_s, bonus_s, 0.0, tau_GR))"
   ]
  },
  {
   "cell_type": "code",
   "execution_count": null,
   "metadata": {
    "id": "S_sLTwn_XYZp"
   },
   "outputs": [],
   "source": [
    "# Create policy names and put in one dataframe\n",
    "base_df['Policy'] = \"Current Law\"\n",
    "repealGR_df['Policy'] = \"Repeal Business Tax\"\n",
    "fedbonus_df['Policy'] = \"Follow Federal Bonus Depreciation\"\n",
    "repealFT_df['Policy'] = \"Repeal Franchise Tax\"\n",
    "# append dataframes together\n",
    "df = pd.concat([base_df, repealGR_df, fedbonus_df, repealFT_df])\n",
    "df.reset_index(inplace=True)\n",
    "df.rename(columns={\"index\": \"output_var\"}, inplace=True)\n",
    "df = pd.melt(df, id_vars=[\"Policy\", \"output_var\"], var_name=\"asset_type\")"
   ]
  },
  {
   "cell_type": "code",
   "execution_count": null,
   "metadata": {
    "colab": {
     "base_uri": "https://localhost:8080/",
     "height": 417
    },
    "id": "7CoFvIwXcIS6",
    "outputId": "7d047ebd-24ee-470f-d50d-c4838cf860ec"
   },
   "outputs": [],
   "source": [
    "# Plot results\n",
    "fig = px.bar(df[(df[\"output_var\"]==\"metr\") & (df[\"asset_type\"]==\"machines\")], x=\"Policy\", y=\"value\",\n",
    "             color='Policy', labels={'value':'Marginal Effective Tax Rate'}, height=400)\n",
    "fig.show()"
   ]
  },
  {
   "cell_type": "code",
   "execution_count": null,
   "metadata": {
    "colab": {
     "base_uri": "https://localhost:8080/",
     "height": 417
    },
    "id": "9vgBW0hO52CB",
    "outputId": "460145e3-71f4-403e-dc80-92ab500fb3f6"
   },
   "outputs": [],
   "source": [
    "# Plot results\n",
    "fig = px.bar(df[(df[\"output_var\"]==\"rho\") & (df[\"asset_type\"]==\"machines\")], x=\"Policy\", y=\"value\",\n",
    "             color='Policy', labels={'value':'Cost of Capital'}, height=400)\n",
    "fig.show()"
   ]
  },
  {
   "cell_type": "code",
   "execution_count": null,
   "metadata": {
    "colab": {
     "base_uri": "https://localhost:8080/",
     "height": 417
    },
    "id": "Msb8FNavdHVV",
    "outputId": "3f682dc9-6edd-4387-8337-8f69102c0ff1"
   },
   "outputs": [],
   "source": [
    "fig = px.bar(df[(df[\"output_var\"]==\"metr\") & (df[\"asset_type\"]==\"machines\")], x=\"value\", y=\"Policy\",\n",
    "             color='Policy', labels={'value':'Marginal Effective Tax Rate'}, height=400)\n",
    "fig.show()"
   ]
  },
  {
   "cell_type": "code",
   "execution_count": null,
   "metadata": {
    "colab": {
     "base_uri": "https://localhost:8080/",
     "height": 417
    },
    "id": "fqP1sn6egrcq",
    "outputId": "e753d0d6-8e3c-4419-8fce-d085d4a1642c"
   },
   "outputs": [],
   "source": [
    "fig = px.bar(df[(df[\"output_var\"]==\"metr\") & (df[\"asset_type\"]==\"machines\")], x=\"Policy\", y=\"value\",\n",
    "             color='Policy', labels={'value':'Marginal Effective Tax Rate'}, height=400)\n",
    "fig.show()"
   ]
  },
  {
   "cell_type": "code",
   "execution_count": null,
   "metadata": {
    "colab": {
     "base_uri": "https://localhost:8080/",
     "height": 417
    },
    "id": "_VWDAimFZT0-",
    "outputId": "5b6f04c0-46b3-4b58-ac68-4e27e6cf59d9"
   },
   "outputs": [],
   "source": [
    "# Plot results\n",
    "fig = px.histogram(df[(df[\"output_var\"]==\"metr\") & (df['Policy'].isin([\"Current Law\", \"Repeal Business Tax\"]))], x=\"asset_type\", y=\"value\",\n",
    "             color='Policy', barmode='group', labels={'asset_type':'Asset Type', 'value': 'Marginal Effective Tax Rate'},\n",
    "             height=400)\n",
    "fig.show()"
   ]
  },
  {
   "cell_type": "code",
   "execution_count": null,
   "metadata": {
    "colab": {
     "base_uri": "https://localhost:8080/"
    },
    "id": "j9TO10LbryyS",
    "outputId": "6250b37c-da56-4e48-9467-617c4431cf73"
   },
   "outputs": [],
   "source": [
    "# compute example results for equipment\n",
    "r = ccc.paramfunctions.calc_r(\n",
    "        u_f + u_s - u_f * u_s, nominal_int_rate, inflation_rate,\n",
    "        nominal_int_rate, fraction_financed_w_debt, int_haircut, E, 0.0)\n",
    "r_prime = ccc.paramfunctions.calc_r_prime(\n",
    "    nominal_int_rate, inflation_rate, fraction_financed_w_debt, E)\n",
    "z_f = ccc.calcfunctions.dbsl(5, 2, 1.0, r)  # 5 year asset, double declining balance, 100% bonus\n",
    "z_s = ccc.calcfunctions.dbsl(5, 2, 0.0, r)  # 5 year asset, double declining balance, no bonus\n",
    "rho = eq_coc_state(\n",
    "        depreciation_rates['machines'], z_f, z_s, franchise_tax_rate,\n",
    "        u_f, u_s, tau_GR, inv_tax_credit, inflation_rate, r)\n",
    "metr = ccc.calcfunctions.eq_metr(rho, r_prime, inflation_rate)\n",
    "eatr = ccc.calcfunctions.eq_eatr(rho, metr, profit_rate, u_f + u_f - u_f * u_s)\n",
    "print('Machines: rho = ', rho, ', metr = ', metr, ' and eatr = ', eatr)"
   ]
  },
  {
   "cell_type": "code",
   "execution_count": null,
   "metadata": {
    "colab": {
     "base_uri": "https://localhost:8080/"
    },
    "id": "A1PPzapJwHqU",
    "outputId": "c7123b69-c781-4fc9-da51-42b5b039e6f2"
   },
   "outputs": [],
   "source": [
    "# compare to federal\n",
    "r = ccc.paramfunctions.calc_r(\n",
    "        u_f + u_s - u_f * u_s, nominal_int_rate, inflation_rate,\n",
    "        nominal_int_rate, fraction_financed_w_debt, int_haircut, E, 0.0)\n",
    "r_prime = ccc.paramfunctions.calc_r_prime(\n",
    "    nominal_int_rate, inflation_rate, fraction_financed_w_debt, E)\n",
    "z_f = ccc.calcfunctions.dbsl(5, 2, 1.0, r)  # 5 year asset, double declining balance, 100% bonus\n",
    "rho = ccc.calcfunctions.eq_coc(\n",
    "        depreciation_rates['machines'], z_f, 0.0,\n",
    "        u_f, inv_tax_credit, inflation_rate, r)\n",
    "metr = ccc.calcfunctions.eq_metr(rho, r_prime, inflation_rate)\n",
    "eatr = ccc.calcfunctions.eq_eatr(rho, metr, profit_rate, u_f + u_f - u_f * u_s)\n",
    "print('Machines: rho = ', rho, ', metr = ', metr, ' and eatr = ', eatr)"
   ]
  },
  {
   "cell_type": "code",
   "execution_count": null,
   "metadata": {
    "colab": {
     "base_uri": "https://localhost:8080/",
     "height": 392
    },
    "id": "CVtzaqhLd_q4",
    "outputId": "5fb4cbe7-24bc-4784-b21e-7685c0d6c9e0"
   },
   "outputs": [],
   "source": [
    "# Create output DataFrame\n",
    "out_df = df[[\n",
    "    'country', 'corporate_rate', 'property_tax', 'r_and_d_credit',\n",
    "    'allowance_corporate_equity', 'machines_cost_recovery',\n",
    "    'buildings_cost_recovery', 'intangibles_cost_recovery']].copy()\n",
    "# Compute intermediate inputs\n",
    "out_df['r'] = ccc.paramfunctions.calc_r(\n",
    "        out_df['corporate_rate'], nominal_int_rate, inflation_rate,\n",
    "        ace_int_rate, fraction_financed_w_debt, int_haircut, E, out_df['allowance_corporate_equity'])\n",
    "out_df['r_prime'] = ccc.paramfunctions.calc_r_prime(\n",
    "    nominal_int_rate, inflation_rate, fraction_financed_w_debt, E)\n",
    "# Compute final outputs\n",
    "for k, v in depreciation_rates.items():\n",
    "    if k == 'intangibles':\n",
    "        inv_tax_credit = out_df['r_and_d_credit']  # apply R&D credit to intangibles\n",
    "    else:\n",
    "        inv_tax_credit = 0.0\n",
    "    out_df['coc_' + k] = ccc.calcfunctions.eq_coc(\n",
    "        v, out_df[k + '_cost_recovery'], prop_tax_rate,\n",
    "        out_df['corporate_rate'], inv_tax_credit, inflation_rate, out_df['r'])\n",
    "    out_df['metr_' + k] = ccc.calcfunctions.eq_metr(\n",
    "        out_df['coc_' + k], out_df['r_prime'], inflation_rate)\n",
    "    out_df['eatr_' + k] = ccc.calcfunctions.eq_eatr(\n",
    "         out_df['coc_' + k],  out_df['metr_' + k], profit_rate, out_df['corporate_rate'])"
   ]
  },
  {
   "cell_type": "code",
   "execution_count": null,
   "metadata": {
    "id": "4LJ_nzJDKsG-"
   },
   "outputs": [],
   "source": [
    "# plot METRs by country\n",
    "out_df.sort_values(by='metr_machines', inplace=True)\n",
    "fig = px.bar(out_df, x='country', y='metr_machines')\n",
    "fig.show()"
   ]
  },
  {
   "cell_type": "code",
   "execution_count": null,
   "metadata": {
    "id": "v5CXjyPkKsHB"
   },
   "outputs": [],
   "source": [
    "df"
   ]
  },
  {
   "cell_type": "markdown",
   "metadata": {},
   "source": [
    "## PEW State Balances Data"
   ]
  },
  {
   "cell_type": "code",
   "execution_count": 1,
   "metadata": {
    "id": "XzXXKzACeBR0"
   },
   "outputs": [],
   "source": [
    "import pandas as pd\n",
    "import numpy as np\n",
    "import datetime as dt\n",
    "from bokeh.io import output_file, output_notebook, export_png\n",
    "from bokeh.plotting import figure, show\n",
    "from bokeh.models import (ColumnDataSource, Title, Legend, HoverTool,\n",
    "                          NumeralTickFormatter)\n",
    "from bokeh.models.tickers import SingleIntervalTicker\n",
    "from bokeh.models.annotations import Label"
   ]
  },
  {
   "cell_type": "markdown",
   "metadata": {},
   "source": [
    "### PEW state balances data: Rainy day fund balances"
   ]
  },
  {
   "cell_type": "code",
   "execution_count": 2,
   "metadata": {},
   "outputs": [
    {
     "name": "stderr",
     "output_type": "stream",
     "text": [
      "/var/folders/d4/trj3dssd6s3g8kxvjmczz11w0000gn/T/ipykernel_10269/2235183987.py:44: SettingWithCopyWarning: \n",
      "A value is trying to be set on a copy of a slice from a DataFrame\n",
      "\n",
      "See the caveats in the documentation: https://pandas.pydata.org/pandas-docs/stable/user_guide/indexing.html#returning-a-view-versus-a-copy\n",
      "  rain_pct_df.rename(columns = {\n"
     ]
    }
   ],
   "source": [
    "# Read in the PEW data on rainy day funds by year and\n",
    "# state from worksheet\n",
    "rain_df = pd.read_excel(\n",
    "    \"data/ReservesBalancesData.xlsx\",\n",
    "    sheet_name=\"Rainy Day Fund Data\",\n",
    "    header=5,\n",
    "    index_col=0,\n",
    "    skipfooter=17\n",
    ")\n",
    "rain_df.replace(0, np.nan, inplace=True)\n",
    "\n",
    "# Create a DataFrame of just the rainy day funds in $millions\n",
    "# by state and by year\n",
    "rain_dol_df = rain_df.loc[:'Wyoming', 'FY 2000.1':'FY 2022 (estimated).1']\n",
    "rain_dol_df.rename(columns = {\n",
    "    'FY 2000.1': '2000',\n",
    "    'FY 2001.1': '2001',\n",
    "    'FY 2002.1': '2002',\n",
    "    'FY 2003.1': '2003',\n",
    "    'FY 2004.1': '2004',\n",
    "    'FY 2005.1': '2005',\n",
    "    'FY 2006.1': '2006',\n",
    "    'FY 2007.1': '2007',\n",
    "    'FY 2008.1': '2008',\n",
    "    'FY 2009.1': '2009',\n",
    "    'FY 2010.1': '2010',\n",
    "    'FY 2011.1': '2011',\n",
    "    'FY 2012.1': '2012',\n",
    "    'FY 2013.1': '2013',\n",
    "    'FY 2014.1': '2014',\n",
    "    'FY 2015.1': '2015',\n",
    "    ' FY 2016.1': '2016',\n",
    "    ' FY 2017.1': '2017',\n",
    "    ' FY 2018.1': '2018',\n",
    "    'FY 2019.1': '2019',\n",
    "    'FY 2020.1': '2020',\n",
    "    'FY 2021.1': '2021',\n",
    "    'FY 2022 (estimated).1': '2022',\n",
    "}, inplace = True)\n",
    "\n",
    "# Create a DataFrame of just the rainy day funds as a percent of\n",
    "# general fund expenditures by state and by year\n",
    "rain_pct_df = rain_df.loc[:, 'FY 2000.2':'FY 2022 (estimated).2']\n",
    "rain_pct_df.rename(columns = {\n",
    "    'FY 2000.2': '2000',\n",
    "    'FY 2001.2': '2001',\n",
    "    'FY 2002.2': '2002',\n",
    "    'FY 2003.2': '2003',\n",
    "    'FY 2004.2': '2004',\n",
    "    'FY 2005.2': '2005',\n",
    "    'FY 2006.2': '2006',\n",
    "    'FY 2007.2': '2007',\n",
    "    'FY 2008.2': '2008',\n",
    "    'FY 2009.2': '2009',\n",
    "    'FY 2010.2': '2010',\n",
    "    'FY 2011.2': '2011',\n",
    "    'FY 2012.2': '2012',\n",
    "    'FY 2013.2': '2013',\n",
    "    'FY 2014.2': '2014',\n",
    "    'FY 2015.2': '2015',\n",
    "    ' FY 2016.2': '2016',\n",
    "    ' FY 2017.2': '2017',\n",
    "    ' FY 2018.2': '2018',\n",
    "    'FY 2019.2': '2019',\n",
    "    'FY 2020.2': '2020',\n",
    "    'FY 2021.2': '2021',\n",
    "    'FY 2022 (estimated).2': '2022',\n",
    "}, inplace = True)"
   ]
  },
  {
   "cell_type": "markdown",
   "metadata": {},
   "source": [
    "### PEW state balances data: Total balances"
   ]
  },
  {
   "cell_type": "code",
   "execution_count": 3,
   "metadata": {},
   "outputs": [
    {
     "name": "stderr",
     "output_type": "stream",
     "text": [
      "/var/folders/d4/trj3dssd6s3g8kxvjmczz11w0000gn/T/ipykernel_10269/3735465516.py:44: SettingWithCopyWarning: \n",
      "A value is trying to be set on a copy of a slice from a DataFrame\n",
      "\n",
      "See the caveats in the documentation: https://pandas.pydata.org/pandas-docs/stable/user_guide/indexing.html#returning-a-view-versus-a-copy\n",
      "  totbal_pct_df.rename(columns = {\n"
     ]
    }
   ],
   "source": [
    "# Read in the PEW data on total reserves and balances\n",
    "# by year and state from worksheet\n",
    "totbal_df = pd.read_excel(\n",
    "    \"data/ReservesBalancesData.xlsx\",\n",
    "    sheet_name=\"Total Balances Data\",\n",
    "    header=5,\n",
    "    index_col=0,\n",
    "    skipfooter=17\n",
    ")\n",
    "totbal_df.replace(0, np.nan, inplace=True)\n",
    "\n",
    "# Create a DataFrame of just the total reserves and balances\n",
    "# funds in $millions by state and by year\n",
    "totbal_dol_df = totbal_df.loc[:'Wyoming', 'FY 2000.1':'FY 2022 (estimated).1']\n",
    "totbal_dol_df.rename(columns = {\n",
    "    'FY 2000.1': '2000',\n",
    "    'FY 2001.1': '2001',\n",
    "    'FY 2002.1': '2002',\n",
    "    'FY 2003.1': '2003',\n",
    "    'FY 2004.1': '2004',\n",
    "    'FY 2005.1': '2005',\n",
    "    'FY 2006.1': '2006',\n",
    "    'FY 2007.1': '2007',\n",
    "    'FY 2008.1': '2008',\n",
    "    'FY 2009.1': '2009',\n",
    "    'FY 2010.1': '2010',\n",
    "    'FY 2011.1': '2011',\n",
    "    'FY 2012.1': '2012',\n",
    "    'FY 2013.1': '2013',\n",
    "    'FY 2014.1': '2014',\n",
    "    'FY 2015.1': '2015',\n",
    "    ' FY 2016.1': '2016',\n",
    "    ' FY 2017.1': '2017',\n",
    "    ' FY 2018.1': '2018',\n",
    "    'FY 2019.1': '2019',\n",
    "    'FY 2020.1': '2020',\n",
    "    'FY 2021.1': '2021',\n",
    "    'FY 2022 (estimated).1': '2022',\n",
    "}, inplace = True)\n",
    "\n",
    "# Create a DataFrame of just the total reserves and balances funds\n",
    "# as a percent of general fund expenditures by state and by year\n",
    "totbal_pct_df = totbal_df.loc[:, 'FY 2000.2':'FY 2022 (estimated).2']\n",
    "totbal_pct_df.rename(columns = {\n",
    "    'FY 2000.2': '2000',\n",
    "    'FY 2001.2': '2001',\n",
    "    'FY 2002.2': '2002',\n",
    "    'FY 2003.2': '2003',\n",
    "    'FY 2004.2': '2004',\n",
    "    'FY 2005.2': '2005',\n",
    "    'FY 2006.2': '2006',\n",
    "    'FY 2007.2': '2007',\n",
    "    'FY 2008.2': '2008',\n",
    "    'FY 2009.2': '2009',\n",
    "    'FY 2010.2': '2010',\n",
    "    'FY 2011.2': '2011',\n",
    "    'FY 2012.2': '2012',\n",
    "    'FY 2013.2': '2013',\n",
    "    'FY 2014.2': '2014',\n",
    "    'FY 2015.2': '2015',\n",
    "    ' FY 2016.2': '2016',\n",
    "    ' FY 2017.2': '2017',\n",
    "    ' FY 2018.2': '2018',\n",
    "    'FY 2019.2': '2019',\n",
    "    'FY 2020.2': '2020',\n",
    "    'FY 2021.2': '2021',\n",
    "    'FY 2022 (estimated).2': '2022',\n",
    "}, inplace = True)"
   ]
  },
  {
   "cell_type": "markdown",
   "metadata": {},
   "source": [
    "### Figure 1. Plot time series of rainy day funds and total balances as percent of general fund expenditures for both the 50-state median and for Tennessee\n",
    "Executing the cell below and the following cell will create the `rain_totbal_50_tn_timeseries.html` file in this notebook and in your `/images/` folder and open that file as a browser window. I created the `.png` version of the file by just screenshotting the `.html` image."
   ]
  },
  {
   "cell_type": "code",
   "execution_count": 10,
   "metadata": {},
   "outputs": [
    {
     "data": {
      "text/html": [
       "<style>\n",
       "        .bk-notebook-logo {\n",
       "            display: block;\n",
       "            width: 20px;\n",
       "            height: 20px;\n",
       "            background-image: url(data:image/png;base64,iVBORw0KGgoAAAANSUhEUgAAABQAAAAUCAYAAACNiR0NAAAABHNCSVQICAgIfAhkiAAAAAlwSFlzAAALEgAACxIB0t1+/AAAABx0RVh0U29mdHdhcmUAQWRvYmUgRmlyZXdvcmtzIENTNui8sowAAAOkSURBVDiNjZRtaJVlGMd/1/08zzln5zjP1LWcU9N0NkN8m2CYjpgQYQXqSs0I84OLIC0hkEKoPtiH3gmKoiJDU7QpLgoLjLIQCpEsNJ1vqUOdO7ppbuec5+V+rj4ctwzd8IIbbi6u+8f1539dt3A78eXC7QizUF7gyV1fD1Yqg4JWz84yffhm0qkFqBogB9rM8tZdtwVsPUhWhGcFJngGeWrPzHm5oaMmkfEg1usvLFyc8jLRqDOMru7AyC8saQr7GG7f5fvDeH7Ej8CM66nIF+8yngt6HWaKh7k49Soy9nXurCi1o3qUbS3zWfrYeQDTB/Qj6kX6Ybhw4B+bOYoLKCC9H3Nu/leUTZ1JdRWkkn2ldcCamzrcf47KKXdAJllSlxAOkRgyHsGC/zRday5Qld9DyoM4/q/rUoy/CXh3jzOu3bHUVZeU+DEn8FInkPBFlu3+nW3Nw0mk6vCDiWg8CeJaxEwuHS3+z5RgY+YBR6V1Z1nxSOfoaPa4LASWxxdNp+VWTk7+4vzaou8v8PN+xo+KY2xsw6une2frhw05CTYOmQvsEhjhWjn0bmXPjpE1+kplmmkP3suftwTubK9Vq22qKmrBhpY4jvd5afdRA3wGjFAgcnTK2s4hY0/GPNIb0nErGMCRxWOOX64Z8RAC4oCXdklmEvcL8o0BfkNK4lUg9HTl+oPlQxdNo3Mg4Nv175e/1LDGzZen30MEjRUtmXSfiTVu1kK8W4txyV6BMKlbgk3lMwYCiusNy9fVfvvwMxv8Ynl6vxoByANLTWplvuj/nF9m2+PDtt1eiHPBr1oIfhCChQMBw6Aw0UulqTKZdfVvfG7VcfIqLG9bcldL/+pdWTLxLUy8Qq38heUIjh4XlzZxzQm19lLFlr8vdQ97rjZVOLf8nclzckbcD4wxXMidpX30sFd37Fv/GtwwhzhxGVAprjbg0gCAEeIgwCZyTV2Z1REEW8O4py0wsjeloKoMr6iCY6dP92H6Vw/oTyICIthibxjm/DfN9lVz8IqtqKYLUXfoKVMVQVVJOElGjrnnUt9T9wbgp8AyYKaGlqingHZU/uG2NTZSVqwHQTWkx9hxjkpWDaCg6Ckj5qebgBVbT3V3NNXMSiWSDdGV3hrtzla7J+duwPOToIg42ChPQOQjspnSlp1V+Gjdged7+8UN5CRAV7a5EdFNwCjEaBR27b3W890TE7g24NAP/mMDXRWrGoFPQI9ls/MWO2dWFAar/xcOIImbbpA3zgAAAABJRU5ErkJggg==);\n",
       "        }\n",
       "    </style>\n",
       "    <div>\n",
       "        <a href=\"https://bokeh.org\" target=\"_blank\" class=\"bk-notebook-logo\"></a>\n",
       "        <span id=\"p5334\">Loading BokehJS ...</span>\n",
       "    </div>\n"
      ]
     },
     "metadata": {},
     "output_type": "display_data"
    },
    {
     "data": {
      "application/javascript": [
       "(function(root) {\n",
       "  function now() {\n",
       "    return new Date();\n",
       "  }\n",
       "\n",
       "  const force = true;\n",
       "\n",
       "  if (typeof root._bokeh_onload_callbacks === \"undefined\" || force === true) {\n",
       "    root._bokeh_onload_callbacks = [];\n",
       "    root._bokeh_is_loading = undefined;\n",
       "  }\n",
       "\n",
       "const JS_MIME_TYPE = 'application/javascript';\n",
       "  const HTML_MIME_TYPE = 'text/html';\n",
       "  const EXEC_MIME_TYPE = 'application/vnd.bokehjs_exec.v0+json';\n",
       "  const CLASS_NAME = 'output_bokeh rendered_html';\n",
       "\n",
       "  /**\n",
       "   * Render data to the DOM node\n",
       "   */\n",
       "  function render(props, node) {\n",
       "    const script = document.createElement(\"script\");\n",
       "    node.appendChild(script);\n",
       "  }\n",
       "\n",
       "  /**\n",
       "   * Handle when an output is cleared or removed\n",
       "   */\n",
       "  function handleClearOutput(event, handle) {\n",
       "    const cell = handle.cell;\n",
       "\n",
       "    const id = cell.output_area._bokeh_element_id;\n",
       "    const server_id = cell.output_area._bokeh_server_id;\n",
       "    // Clean up Bokeh references\n",
       "    if (id != null && id in Bokeh.index) {\n",
       "      Bokeh.index[id].model.document.clear();\n",
       "      delete Bokeh.index[id];\n",
       "    }\n",
       "\n",
       "    if (server_id !== undefined) {\n",
       "      // Clean up Bokeh references\n",
       "      const cmd_clean = \"from bokeh.io.state import curstate; print(curstate().uuid_to_server['\" + server_id + \"'].get_sessions()[0].document.roots[0]._id)\";\n",
       "      cell.notebook.kernel.execute(cmd_clean, {\n",
       "        iopub: {\n",
       "          output: function(msg) {\n",
       "            const id = msg.content.text.trim();\n",
       "            if (id in Bokeh.index) {\n",
       "              Bokeh.index[id].model.document.clear();\n",
       "              delete Bokeh.index[id];\n",
       "            }\n",
       "          }\n",
       "        }\n",
       "      });\n",
       "      // Destroy server and session\n",
       "      const cmd_destroy = \"import bokeh.io.notebook as ion; ion.destroy_server('\" + server_id + \"')\";\n",
       "      cell.notebook.kernel.execute(cmd_destroy);\n",
       "    }\n",
       "  }\n",
       "\n",
       "  /**\n",
       "   * Handle when a new output is added\n",
       "   */\n",
       "  function handleAddOutput(event, handle) {\n",
       "    const output_area = handle.output_area;\n",
       "    const output = handle.output;\n",
       "\n",
       "    // limit handleAddOutput to display_data with EXEC_MIME_TYPE content only\n",
       "    if ((output.output_type != \"display_data\") || (!Object.prototype.hasOwnProperty.call(output.data, EXEC_MIME_TYPE))) {\n",
       "      return\n",
       "    }\n",
       "\n",
       "    const toinsert = output_area.element.find(\".\" + CLASS_NAME.split(' ')[0]);\n",
       "\n",
       "    if (output.metadata[EXEC_MIME_TYPE][\"id\"] !== undefined) {\n",
       "      toinsert[toinsert.length - 1].firstChild.textContent = output.data[JS_MIME_TYPE];\n",
       "      // store reference to embed id on output_area\n",
       "      output_area._bokeh_element_id = output.metadata[EXEC_MIME_TYPE][\"id\"];\n",
       "    }\n",
       "    if (output.metadata[EXEC_MIME_TYPE][\"server_id\"] !== undefined) {\n",
       "      const bk_div = document.createElement(\"div\");\n",
       "      bk_div.innerHTML = output.data[HTML_MIME_TYPE];\n",
       "      const script_attrs = bk_div.children[0].attributes;\n",
       "      for (let i = 0; i < script_attrs.length; i++) {\n",
       "        toinsert[toinsert.length - 1].firstChild.setAttribute(script_attrs[i].name, script_attrs[i].value);\n",
       "        toinsert[toinsert.length - 1].firstChild.textContent = bk_div.children[0].textContent\n",
       "      }\n",
       "      // store reference to server id on output_area\n",
       "      output_area._bokeh_server_id = output.metadata[EXEC_MIME_TYPE][\"server_id\"];\n",
       "    }\n",
       "  }\n",
       "\n",
       "  function register_renderer(events, OutputArea) {\n",
       "\n",
       "    function append_mime(data, metadata, element) {\n",
       "      // create a DOM node to render to\n",
       "      const toinsert = this.create_output_subarea(\n",
       "        metadata,\n",
       "        CLASS_NAME,\n",
       "        EXEC_MIME_TYPE\n",
       "      );\n",
       "      this.keyboard_manager.register_events(toinsert);\n",
       "      // Render to node\n",
       "      const props = {data: data, metadata: metadata[EXEC_MIME_TYPE]};\n",
       "      render(props, toinsert[toinsert.length - 1]);\n",
       "      element.append(toinsert);\n",
       "      return toinsert\n",
       "    }\n",
       "\n",
       "    /* Handle when an output is cleared or removed */\n",
       "    events.on('clear_output.CodeCell', handleClearOutput);\n",
       "    events.on('delete.Cell', handleClearOutput);\n",
       "\n",
       "    /* Handle when a new output is added */\n",
       "    events.on('output_added.OutputArea', handleAddOutput);\n",
       "\n",
       "    /**\n",
       "     * Register the mime type and append_mime function with output_area\n",
       "     */\n",
       "    OutputArea.prototype.register_mime_type(EXEC_MIME_TYPE, append_mime, {\n",
       "      /* Is output safe? */\n",
       "      safe: true,\n",
       "      /* Index of renderer in `output_area.display_order` */\n",
       "      index: 0\n",
       "    });\n",
       "  }\n",
       "\n",
       "  // register the mime type if in Jupyter Notebook environment and previously unregistered\n",
       "  if (root.Jupyter !== undefined) {\n",
       "    const events = require('base/js/events');\n",
       "    const OutputArea = require('notebook/js/outputarea').OutputArea;\n",
       "\n",
       "    if (OutputArea.prototype.mime_types().indexOf(EXEC_MIME_TYPE) == -1) {\n",
       "      register_renderer(events, OutputArea);\n",
       "    }\n",
       "  }\n",
       "  if (typeof (root._bokeh_timeout) === \"undefined\" || force === true) {\n",
       "    root._bokeh_timeout = Date.now() + 5000;\n",
       "    root._bokeh_failed_load = false;\n",
       "  }\n",
       "\n",
       "  const NB_LOAD_WARNING = {'data': {'text/html':\n",
       "     \"<div style='background-color: #fdd'>\\n\"+\n",
       "     \"<p>\\n\"+\n",
       "     \"BokehJS does not appear to have successfully loaded. If loading BokehJS from CDN, this \\n\"+\n",
       "     \"may be due to a slow or bad network connection. Possible fixes:\\n\"+\n",
       "     \"</p>\\n\"+\n",
       "     \"<ul>\\n\"+\n",
       "     \"<li>re-rerun `output_notebook()` to attempt to load from CDN again, or</li>\\n\"+\n",
       "     \"<li>use INLINE resources instead, as so:</li>\\n\"+\n",
       "     \"</ul>\\n\"+\n",
       "     \"<code>\\n\"+\n",
       "     \"from bokeh.resources import INLINE\\n\"+\n",
       "     \"output_notebook(resources=INLINE)\\n\"+\n",
       "     \"</code>\\n\"+\n",
       "     \"</div>\"}};\n",
       "\n",
       "  function display_loaded() {\n",
       "    const el = document.getElementById(\"p5334\");\n",
       "    if (el != null) {\n",
       "      el.textContent = \"BokehJS is loading...\";\n",
       "    }\n",
       "    if (root.Bokeh !== undefined) {\n",
       "      if (el != null) {\n",
       "        el.textContent = \"BokehJS \" + root.Bokeh.version + \" successfully loaded.\";\n",
       "      }\n",
       "    } else if (Date.now() < root._bokeh_timeout) {\n",
       "      setTimeout(display_loaded, 100)\n",
       "    }\n",
       "  }\n",
       "\n",
       "  function run_callbacks() {\n",
       "    try {\n",
       "      root._bokeh_onload_callbacks.forEach(function(callback) {\n",
       "        if (callback != null)\n",
       "          callback();\n",
       "      });\n",
       "    } finally {\n",
       "      delete root._bokeh_onload_callbacks\n",
       "    }\n",
       "    console.debug(\"Bokeh: all callbacks have finished\");\n",
       "  }\n",
       "\n",
       "  function load_libs(css_urls, js_urls, callback) {\n",
       "    if (css_urls == null) css_urls = [];\n",
       "    if (js_urls == null) js_urls = [];\n",
       "\n",
       "    root._bokeh_onload_callbacks.push(callback);\n",
       "    if (root._bokeh_is_loading > 0) {\n",
       "      console.debug(\"Bokeh: BokehJS is being loaded, scheduling callback at\", now());\n",
       "      return null;\n",
       "    }\n",
       "    if (js_urls == null || js_urls.length === 0) {\n",
       "      run_callbacks();\n",
       "      return null;\n",
       "    }\n",
       "    console.debug(\"Bokeh: BokehJS not loaded, scheduling load and callback at\", now());\n",
       "    root._bokeh_is_loading = css_urls.length + js_urls.length;\n",
       "\n",
       "    function on_load() {\n",
       "      root._bokeh_is_loading--;\n",
       "      if (root._bokeh_is_loading === 0) {\n",
       "        console.debug(\"Bokeh: all BokehJS libraries/stylesheets loaded\");\n",
       "        run_callbacks()\n",
       "      }\n",
       "    }\n",
       "\n",
       "    function on_error(url) {\n",
       "      console.error(\"failed to load \" + url);\n",
       "    }\n",
       "\n",
       "    for (let i = 0; i < css_urls.length; i++) {\n",
       "      const url = css_urls[i];\n",
       "      const element = document.createElement(\"link\");\n",
       "      element.onload = on_load;\n",
       "      element.onerror = on_error.bind(null, url);\n",
       "      element.rel = \"stylesheet\";\n",
       "      element.type = \"text/css\";\n",
       "      element.href = url;\n",
       "      console.debug(\"Bokeh: injecting link tag for BokehJS stylesheet: \", url);\n",
       "      document.body.appendChild(element);\n",
       "    }\n",
       "\n",
       "    for (let i = 0; i < js_urls.length; i++) {\n",
       "      const url = js_urls[i];\n",
       "      const element = document.createElement('script');\n",
       "      element.onload = on_load;\n",
       "      element.onerror = on_error.bind(null, url);\n",
       "      element.async = false;\n",
       "      element.src = url;\n",
       "      console.debug(\"Bokeh: injecting script tag for BokehJS library: \", url);\n",
       "      document.head.appendChild(element);\n",
       "    }\n",
       "  };\n",
       "\n",
       "  function inject_raw_css(css) {\n",
       "    const element = document.createElement(\"style\");\n",
       "    element.appendChild(document.createTextNode(css));\n",
       "    document.body.appendChild(element);\n",
       "  }\n",
       "\n",
       "  const js_urls = [\"https://cdn.bokeh.org/bokeh/release/bokeh-3.0.3.min.js\", \"https://cdn.bokeh.org/bokeh/release/bokeh-gl-3.0.3.min.js\", \"https://cdn.bokeh.org/bokeh/release/bokeh-widgets-3.0.3.min.js\", \"https://cdn.bokeh.org/bokeh/release/bokeh-tables-3.0.3.min.js\", \"https://cdn.bokeh.org/bokeh/release/bokeh-mathjax-3.0.3.min.js\"];\n",
       "  const css_urls = [];\n",
       "\n",
       "  const inline_js = [    function(Bokeh) {\n",
       "      Bokeh.set_log_level(\"info\");\n",
       "    },\n",
       "function(Bokeh) {\n",
       "    }\n",
       "  ];\n",
       "\n",
       "  function run_inline_js() {\n",
       "    if (root.Bokeh !== undefined || force === true) {\n",
       "          for (let i = 0; i < inline_js.length; i++) {\n",
       "      inline_js[i].call(root, root.Bokeh);\n",
       "    }\n",
       "if (force === true) {\n",
       "        display_loaded();\n",
       "      }} else if (Date.now() < root._bokeh_timeout) {\n",
       "      setTimeout(run_inline_js, 100);\n",
       "    } else if (!root._bokeh_failed_load) {\n",
       "      console.log(\"Bokeh: BokehJS failed to load within specified timeout.\");\n",
       "      root._bokeh_failed_load = true;\n",
       "    } else if (force !== true) {\n",
       "      const cell = $(document.getElementById(\"p5334\")).parents('.cell').data().cell;\n",
       "      cell.output_area.append_execute_result(NB_LOAD_WARNING)\n",
       "    }\n",
       "  }\n",
       "\n",
       "  if (root._bokeh_is_loading === 0) {\n",
       "    console.debug(\"Bokeh: BokehJS loaded, going straight to plotting\");\n",
       "    run_inline_js();\n",
       "  } else {\n",
       "    load_libs(css_urls, js_urls, function() {\n",
       "      console.debug(\"Bokeh: BokehJS plotting callback run at\", now());\n",
       "      run_inline_js();\n",
       "    });\n",
       "  }\n",
       "}(window));"
      ],
      "application/vnd.bokehjs_load.v0+json": "(function(root) {\n  function now() {\n    return new Date();\n  }\n\n  const force = true;\n\n  if (typeof root._bokeh_onload_callbacks === \"undefined\" || force === true) {\n    root._bokeh_onload_callbacks = [];\n    root._bokeh_is_loading = undefined;\n  }\n\n\n  if (typeof (root._bokeh_timeout) === \"undefined\" || force === true) {\n    root._bokeh_timeout = Date.now() + 5000;\n    root._bokeh_failed_load = false;\n  }\n\n  const NB_LOAD_WARNING = {'data': {'text/html':\n     \"<div style='background-color: #fdd'>\\n\"+\n     \"<p>\\n\"+\n     \"BokehJS does not appear to have successfully loaded. If loading BokehJS from CDN, this \\n\"+\n     \"may be due to a slow or bad network connection. Possible fixes:\\n\"+\n     \"</p>\\n\"+\n     \"<ul>\\n\"+\n     \"<li>re-rerun `output_notebook()` to attempt to load from CDN again, or</li>\\n\"+\n     \"<li>use INLINE resources instead, as so:</li>\\n\"+\n     \"</ul>\\n\"+\n     \"<code>\\n\"+\n     \"from bokeh.resources import INLINE\\n\"+\n     \"output_notebook(resources=INLINE)\\n\"+\n     \"</code>\\n\"+\n     \"</div>\"}};\n\n  function display_loaded() {\n    const el = document.getElementById(\"p5334\");\n    if (el != null) {\n      el.textContent = \"BokehJS is loading...\";\n    }\n    if (root.Bokeh !== undefined) {\n      if (el != null) {\n        el.textContent = \"BokehJS \" + root.Bokeh.version + \" successfully loaded.\";\n      }\n    } else if (Date.now() < root._bokeh_timeout) {\n      setTimeout(display_loaded, 100)\n    }\n  }\n\n  function run_callbacks() {\n    try {\n      root._bokeh_onload_callbacks.forEach(function(callback) {\n        if (callback != null)\n          callback();\n      });\n    } finally {\n      delete root._bokeh_onload_callbacks\n    }\n    console.debug(\"Bokeh: all callbacks have finished\");\n  }\n\n  function load_libs(css_urls, js_urls, callback) {\n    if (css_urls == null) css_urls = [];\n    if (js_urls == null) js_urls = [];\n\n    root._bokeh_onload_callbacks.push(callback);\n    if (root._bokeh_is_loading > 0) {\n      console.debug(\"Bokeh: BokehJS is being loaded, scheduling callback at\", now());\n      return null;\n    }\n    if (js_urls == null || js_urls.length === 0) {\n      run_callbacks();\n      return null;\n    }\n    console.debug(\"Bokeh: BokehJS not loaded, scheduling load and callback at\", now());\n    root._bokeh_is_loading = css_urls.length + js_urls.length;\n\n    function on_load() {\n      root._bokeh_is_loading--;\n      if (root._bokeh_is_loading === 0) {\n        console.debug(\"Bokeh: all BokehJS libraries/stylesheets loaded\");\n        run_callbacks()\n      }\n    }\n\n    function on_error(url) {\n      console.error(\"failed to load \" + url);\n    }\n\n    for (let i = 0; i < css_urls.length; i++) {\n      const url = css_urls[i];\n      const element = document.createElement(\"link\");\n      element.onload = on_load;\n      element.onerror = on_error.bind(null, url);\n      element.rel = \"stylesheet\";\n      element.type = \"text/css\";\n      element.href = url;\n      console.debug(\"Bokeh: injecting link tag for BokehJS stylesheet: \", url);\n      document.body.appendChild(element);\n    }\n\n    for (let i = 0; i < js_urls.length; i++) {\n      const url = js_urls[i];\n      const element = document.createElement('script');\n      element.onload = on_load;\n      element.onerror = on_error.bind(null, url);\n      element.async = false;\n      element.src = url;\n      console.debug(\"Bokeh: injecting script tag for BokehJS library: \", url);\n      document.head.appendChild(element);\n    }\n  };\n\n  function inject_raw_css(css) {\n    const element = document.createElement(\"style\");\n    element.appendChild(document.createTextNode(css));\n    document.body.appendChild(element);\n  }\n\n  const js_urls = [\"https://cdn.bokeh.org/bokeh/release/bokeh-3.0.3.min.js\", \"https://cdn.bokeh.org/bokeh/release/bokeh-gl-3.0.3.min.js\", \"https://cdn.bokeh.org/bokeh/release/bokeh-widgets-3.0.3.min.js\", \"https://cdn.bokeh.org/bokeh/release/bokeh-tables-3.0.3.min.js\", \"https://cdn.bokeh.org/bokeh/release/bokeh-mathjax-3.0.3.min.js\"];\n  const css_urls = [];\n\n  const inline_js = [    function(Bokeh) {\n      Bokeh.set_log_level(\"info\");\n    },\nfunction(Bokeh) {\n    }\n  ];\n\n  function run_inline_js() {\n    if (root.Bokeh !== undefined || force === true) {\n          for (let i = 0; i < inline_js.length; i++) {\n      inline_js[i].call(root, root.Bokeh);\n    }\nif (force === true) {\n        display_loaded();\n      }} else if (Date.now() < root._bokeh_timeout) {\n      setTimeout(run_inline_js, 100);\n    } else if (!root._bokeh_failed_load) {\n      console.log(\"Bokeh: BokehJS failed to load within specified timeout.\");\n      root._bokeh_failed_load = true;\n    } else if (force !== true) {\n      const cell = $(document.getElementById(\"p5334\")).parents('.cell').data().cell;\n      cell.output_area.append_execute_result(NB_LOAD_WARNING)\n    }\n  }\n\n  if (root._bokeh_is_loading === 0) {\n    console.debug(\"Bokeh: BokehJS loaded, going straight to plotting\");\n    run_inline_js();\n  } else {\n    load_libs(css_urls, js_urls, function() {\n      console.debug(\"Bokeh: BokehJS plotting callback run at\", now());\n      run_inline_js();\n    });\n  }\n}(window));"
     },
     "metadata": {},
     "output_type": "display_data"
    }
   ],
   "source": [
    "rain_pct_50_df = rain_pct_df.loc[\"50-state median\", :].to_frame().reset_index()\n",
    "rain_pct_50_df.rename(columns = {\"index\":\"year\", \"50-state median\":\"fraction\"}, inplace = True)\n",
    "rain_pct_50_df[\"percent\"] = 100 * rain_pct_50_df[\"fraction\"]\n",
    "\n",
    "rain_pct_tn_df = rain_pct_df.loc[\"Tennessee\", :].to_frame().reset_index()\n",
    "rain_pct_tn_df.rename(columns = {\"index\":\"year\", \"Tennessee\":\"fraction\"}, inplace = True)\n",
    "rain_pct_tn_df[\"percent\"] = 100 * rain_pct_tn_df[\"fraction\"]\n",
    "\n",
    "totbal_pct_50_df = totbal_pct_df.loc[\"50-state median\", :].to_frame().reset_index()\n",
    "totbal_pct_50_df.rename(columns = {\"index\":\"year\", \"50-state median\":\"fraction\"}, inplace = True)\n",
    "totbal_pct_50_df[\"percent\"] = 100 * totbal_pct_50_df[\"fraction\"]\n",
    "\n",
    "totbal_pct_tn_df = totbal_pct_df.loc[\"Tennessee\", :].to_frame().reset_index()\n",
    "totbal_pct_tn_df.rename(columns = {'index':'year', \"Tennessee\":\"fraction\"}, inplace = True)\n",
    "totbal_pct_tn_df[\"percent\"] = 100 * totbal_pct_tn_df[\"fraction\"]\n",
    "\n",
    "fig_title = (\"Rainy Day fund and total reserves as a percentage of \" +\n",
    "             \"general fund expenditures: 2000-2022\")\n",
    "output_file(\"./images/rain_totbal_50_tn_timeseries.html\", title=fig_title)\n",
    "output_notebook()\n",
    "min_year = 2000\n",
    "max_year = 2022\n",
    "min_pct = 2.0\n",
    "max_pct = 0.0\n",
    "pct_buffer = 0.05\n",
    "\n",
    "var_list = [rain_pct_50_df, rain_pct_tn_df, totbal_pct_50_df, totbal_pct_tn_df]\n",
    "color_list = [\"blue\", \"orange\", \"blue\", \"orange\"]\n",
    "marker_list = [\"circle\", \"circle\", \"square\", \"square\"]\n",
    "legend_label_list = [\"Rainy Day Fund, 50-state median\", \"Rainy Day Fund, Tennessee\",\n",
    "                     \"Total balances, 50-state median\", \"Total balances, Tennessee\"]\n",
    "cds_list = []\n",
    "\n",
    "for k, df in enumerate(var_list):\n",
    "    min_pct = np.minimum(min_pct, df[\"percent\"].min())\n",
    "    max_pct = np.maximum(max_pct, df[\"percent\"].max())\n",
    "    cds_list.append(ColumnDataSource(df))\n",
    "\n",
    "fig = figure(title=fig_title,\n",
    "             height=600,\n",
    "             width=1000,\n",
    "             x_axis_label='Year',\n",
    "             x_range=(min_year - 1, max_year + 1),\n",
    "             y_axis_label='Percent of general fund expenditures',\n",
    "             y_range=(min_pct - pct_buffer * (max_pct - min_pct),\n",
    "                      max_pct + pct_buffer * (max_pct - min_pct)),\n",
    "             toolbar_location=None)\n",
    "\n",
    "# Set title font size and axes font sizes\n",
    "fig.title.text_font_size = '15pt'\n",
    "fig.xaxis.axis_label_text_font_size = '12pt'\n",
    "fig.xaxis.major_label_text_font_size = '12pt'\n",
    "fig.yaxis.axis_label_text_font_size = '12pt'\n",
    "fig.yaxis.major_label_text_font_size = '12pt'\n",
    "\n",
    "# Modify tick intervals for X-axis and Y-axis\n",
    "fig.xaxis.ticker = SingleIntervalTicker(interval=2, num_minor_ticks=2)\n",
    "fig.xgrid.ticker = SingleIntervalTicker(interval=2)\n",
    "fig.yaxis.ticker = SingleIntervalTicker(interval=10, num_minor_ticks=5)\n",
    "fig.ygrid.ticker = SingleIntervalTicker(interval=10)\n",
    "\n",
    "# Create lines and markers for time series\n",
    "for k, yvar in enumerate(var_list):\n",
    "    fig.line(x='year', y='percent', source=cds_list[k], color=color_list[k],\n",
    "            line_width=3, alpha=0.7)\n",
    "    fig.scatter(x='year', y='percent', source=cds_list[k], size=8,\n",
    "                line_width=1, line_color='black', fill_color=color_list[k],\n",
    "                marker=marker_list[k], line_alpha=0.7, fill_alpha=0.7,\n",
    "                legend_label=legend_label_list[k])\n",
    "\n",
    "fig.segment(x0=2021.2, y0=min_pct - pct_buffer * (max_pct - min_pct),\n",
    "            x1=2021.2, y1=max_pct + pct_buffer * (max_pct - min_pct),\n",
    "            color='gray', line_dash='6 2', line_width=2)\n",
    "    \n",
    "label_temp = Label(x=2021.3, y=30.0, x_units='data', y_units='data',\n",
    "                   text='Projected', text_font_size='4mm')\n",
    "fig.add_layout(label_temp)\n",
    "\n",
    "# Add information on hover\n",
    "tooltips = [('Year', '@year'),\n",
    "            ('Pct of gen. fund exps.','@percent{0.0}' + '%')]\n",
    "fig.add_tools(HoverTool(tooltips=tooltips, toggleable=False))\n",
    "\n",
    "# Add legend\n",
    "fig.legend.location = 'top_center'\n",
    "fig.legend.border_line_width = 1\n",
    "fig.legend.border_line_color = 'black'\n",
    "fig.legend.border_line_alpha = 1\n",
    "fig.legend.label_text_font_size = '5mm'\n",
    "\n",
    "# Add notes below image\n",
    "note_text_list = [\n",
    "    (\n",
    "        'Source: PEW Charitable Trusts, \"Fiscal 50: State Trends and Analysis: ' +\n",
    "        'Reserves and Balances\", updated Dec. 16, 2022'\n",
    "    ),\n",
    "    ('        (accessed Dec. 31, 2022).')    \n",
    "]\n",
    "for note_text in note_text_list:\n",
    "    caption = Title(text=note_text, align='left', text_font_size='4mm',\n",
    "                    text_font_style='italic')\n",
    "    fig.add_layout(caption, 'below')\n",
    "\n",
    "# # This export_png() function requires selenium package as well as firefox\n",
    "# # and geckodriver packages\n",
    "# # (see https://docs.bokeh.org/en/3.0.3/docs/user_guide/output/export.html)\n",
    "# export_png(fig, filename=\"/images/rain_totbal_50_tn_timeseries.png\")"
   ]
  },
  {
   "cell_type": "code",
   "execution_count": 11,
   "metadata": {},
   "outputs": [
    {
     "data": {
      "text/html": [
       "\n",
       "  <div id=\"ef30aa38-736f-4ffe-95eb-efab2cf0a32d\" data-root-id=\"p5347\" style=\"display: contents;\"></div>\n"
      ]
     },
     "metadata": {},
     "output_type": "display_data"
    },
    {
     "data": {
      "application/javascript": [
       "(function(root) {\n",
       "  function embed_document(root) {\n",
       "  const docs_json = {\"5dcb7885-0a45-4e76-abb4-36772054bf86\":{\"version\":\"3.0.3\",\"title\":\"Bokeh Application\",\"defs\":[],\"roots\":[{\"type\":\"object\",\"name\":\"Figure\",\"id\":\"p5347\",\"attributes\":{\"width\":1000,\"x_range\":{\"type\":\"object\",\"name\":\"Range1d\",\"id\":\"p5357\",\"attributes\":{\"start\":1999,\"end\":2023}},\"y_range\":{\"type\":\"object\",\"name\":\"Range1d\",\"id\":\"p5359\",\"attributes\":{\"start\":-1.30721426,\"end\":43.335818460000006}},\"x_scale\":{\"type\":\"object\",\"name\":\"LinearScale\",\"id\":\"p5361\"},\"y_scale\":{\"type\":\"object\",\"name\":\"LinearScale\",\"id\":\"p5363\"},\"title\":{\"type\":\"object\",\"name\":\"Title\",\"id\":\"p5350\",\"attributes\":{\"text\":\"Rainy Day fund and total reserves as a percentage of general fund expenditures: 2000-2022\",\"text_font_size\":\"15pt\"}},\"renderers\":[{\"type\":\"object\",\"name\":\"GlyphRenderer\",\"id\":\"p5406\",\"attributes\":{\"data_source\":{\"type\":\"object\",\"name\":\"ColumnDataSource\",\"id\":\"p5335\",\"attributes\":{\"selected\":{\"type\":\"object\",\"name\":\"Selection\",\"id\":\"p5337\",\"attributes\":{\"indices\":[],\"line_indices\":[]}},\"selection_policy\":{\"type\":\"object\",\"name\":\"UnionRenderers\",\"id\":\"p5336\"},\"data\":{\"type\":\"map\",\"entries\":[[\"index\",{\"type\":\"ndarray\",\"array\":{\"type\":\"bytes\",\"data\":\"AAAAAAEAAAACAAAAAwAAAAQAAAAFAAAABgAAAAcAAAAIAAAACQAAAAoAAAALAAAADAAAAA0AAAAOAAAADwAAABAAAAARAAAAEgAAABMAAAAUAAAAFQAAABYAAAA=\"},\"shape\":[23],\"dtype\":\"int32\",\"order\":\"little\"}],[\"year\",{\"type\":\"ndarray\",\"array\":[\"2000\",\"2001\",\"2002\",\"2003\",\"2004\",\"2005\",\"2006\",\"2007\",\"2008\",\"2009\",\"2010\",\"2011\",\"2012\",\"2013\",\"2014\",\"2015\",\"2016\",\"2017\",\"2018\",\"2019\",\"2020\",\"2021\",\"2022\"],\"shape\":[23],\"dtype\":\"object\",\"order\":\"little\"}],[\"fraction\",{\"type\":\"ndarray\",\"array\":{\"type\":\"bytes\",\"data\":\"xe5Paq4hpT/C3Yn0A6CnP4JHzbc79JA/86hb6t6SfT82A6gec+KSP+Mc58lEMJk/FdGs9RBQpz9bcjXiZEOoPzY4AtKtwKg/Jw6tCfrvmz+wascPwMaQP40HosGCCJI/NYRbJfXxmD8qEzqMojeiP4nGa0KAKqc/IHGza4cuqT+K2WAb0FarP0Vj4335vaw/rlo5fh/DsD/EcXtmyEy0P2XUf00Lm7U/ki8akpBRuT+8li3lvs29Pw==\"},\"shape\":[23],\"dtype\":\"float64\",\"order\":\"little\"}],[\"percent\",{\"type\":\"ndarray\",\"array\":{\"type\":\"bytes\",\"data\":\"inIOQ1CCEEBAtQsXA3USQLu/ME+dffo//psXJ74a5z8Ehebf04H9P5GOvL21rQNAWAPvP402EkBXwbnQpvQSQOq7EcyHVhNADjOPV3vTBUCzlqcYjDb6P8wrjU5MLfw/SX8vhQd9A0DyvRr77XYMQBsz5DM0GRJAYTAkzFmsE0D0qWOV0lsVQI6lWepqdBZAsJ05NeEwGkDC4SAg+bcfQO/di9Qg4SBAKnUk8rjHI0DDnQsjvUgnQA==\"},\"shape\":[23],\"dtype\":\"float64\",\"order\":\"little\"}]]}}},\"view\":{\"type\":\"object\",\"name\":\"CDSView\",\"id\":\"p5407\",\"attributes\":{\"filter\":{\"type\":\"object\",\"name\":\"AllIndices\",\"id\":\"p5408\"}}},\"glyph\":{\"type\":\"object\",\"name\":\"Line\",\"id\":\"p5403\",\"attributes\":{\"x\":{\"type\":\"field\",\"field\":\"year\"},\"y\":{\"type\":\"field\",\"field\":\"percent\"},\"line_color\":\"blue\",\"line_alpha\":0.7,\"line_width\":3}},\"nonselection_glyph\":{\"type\":\"object\",\"name\":\"Line\",\"id\":\"p5404\",\"attributes\":{\"x\":{\"type\":\"field\",\"field\":\"year\"},\"y\":{\"type\":\"field\",\"field\":\"percent\"},\"line_color\":\"blue\",\"line_alpha\":0.1,\"line_width\":3}},\"muted_glyph\":{\"type\":\"object\",\"name\":\"Line\",\"id\":\"p5405\",\"attributes\":{\"x\":{\"type\":\"field\",\"field\":\"year\"},\"y\":{\"type\":\"field\",\"field\":\"percent\"},\"line_color\":\"blue\",\"line_alpha\":0.2,\"line_width\":3}}}},{\"type\":\"object\",\"name\":\"GlyphRenderer\",\"id\":\"p5415\",\"attributes\":{\"data_source\":{\"id\":\"p5335\"},\"view\":{\"type\":\"object\",\"name\":\"CDSView\",\"id\":\"p5416\",\"attributes\":{\"filter\":{\"type\":\"object\",\"name\":\"AllIndices\",\"id\":\"p5417\"}}},\"glyph\":{\"type\":\"object\",\"name\":\"Scatter\",\"id\":\"p5412\",\"attributes\":{\"x\":{\"type\":\"field\",\"field\":\"year\"},\"y\":{\"type\":\"field\",\"field\":\"percent\"},\"size\":{\"type\":\"value\",\"value\":8},\"line_alpha\":{\"type\":\"value\",\"value\":0.7},\"fill_color\":{\"type\":\"value\",\"value\":\"blue\"},\"fill_alpha\":{\"type\":\"value\",\"value\":0.7}}},\"nonselection_glyph\":{\"type\":\"object\",\"name\":\"Scatter\",\"id\":\"p5413\",\"attributes\":{\"x\":{\"type\":\"field\",\"field\":\"year\"},\"y\":{\"type\":\"field\",\"field\":\"percent\"},\"size\":{\"type\":\"value\",\"value\":8},\"line_alpha\":{\"type\":\"value\",\"value\":0.1},\"fill_color\":{\"type\":\"value\",\"value\":\"blue\"},\"fill_alpha\":{\"type\":\"value\",\"value\":0.1},\"hatch_alpha\":{\"type\":\"value\",\"value\":0.1}}},\"muted_glyph\":{\"type\":\"object\",\"name\":\"Scatter\",\"id\":\"p5414\",\"attributes\":{\"x\":{\"type\":\"field\",\"field\":\"year\"},\"y\":{\"type\":\"field\",\"field\":\"percent\"},\"size\":{\"type\":\"value\",\"value\":8},\"line_alpha\":{\"type\":\"value\",\"value\":0.2},\"fill_color\":{\"type\":\"value\",\"value\":\"blue\"},\"fill_alpha\":{\"type\":\"value\",\"value\":0.2},\"hatch_alpha\":{\"type\":\"value\",\"value\":0.2}}}}},{\"type\":\"object\",\"name\":\"GlyphRenderer\",\"id\":\"p5440\",\"attributes\":{\"data_source\":{\"type\":\"object\",\"name\":\"ColumnDataSource\",\"id\":\"p5338\",\"attributes\":{\"selected\":{\"type\":\"object\",\"name\":\"Selection\",\"id\":\"p5340\",\"attributes\":{\"indices\":[],\"line_indices\":[]}},\"selection_policy\":{\"type\":\"object\",\"name\":\"UnionRenderers\",\"id\":\"p5339\"},\"data\":{\"type\":\"map\",\"entries\":[[\"index\",{\"type\":\"ndarray\",\"array\":{\"type\":\"bytes\",\"data\":\"AAAAAAEAAAACAAAAAwAAAAQAAAAFAAAABgAAAAcAAAAIAAAACQAAAAoAAAALAAAADAAAAA0AAAAOAAAADwAAABAAAAARAAAAEgAAABMAAAAUAAAAFQAAABYAAAA=\"},\"shape\":[23],\"dtype\":\"int32\",\"order\":\"little\"}],[\"year\",{\"type\":\"ndarray\",\"array\":[\"2000\",\"2001\",\"2002\",\"2003\",\"2004\",\"2005\",\"2006\",\"2007\",\"2008\",\"2009\",\"2010\",\"2011\",\"2012\",\"2013\",\"2014\",\"2015\",\"2016\",\"2017\",\"2018\",\"2019\",\"2020\",\"2021\",\"2022\"],\"shape\":[23],\"dtype\":\"object\",\"order\":\"little\"}],[\"fraction\",{\"type\":\"ndarray\",\"array\":{\"type\":\"bytes\",\"data\":\"AvOxNwilmT8FIC1PmfuZP4iXr+SNQJg/xXifc08Ilz/vlNvkWi6bP/CD38V88p4/UjDINbxboj+s9gnQUW+sP/cjVI+Ff7E/iS7Lfq2wqj89QTc7H4yoPwiOT/FNDZ0/2OB/VlkOnD8KKufhvdCfP+3Uv5jrPKM/vqapk6NopD+1voqEnf+mP+rlY7bl1ak/1ZBixxmfrT8Vg5UziWevP9s/okswA7U/BVgo9QyxuT/D7DWiU462Pw==\"},\"shape\":[23],\"dtype\":\"float64\",\"order\":\"little\"}],[\"percent\",{\"type\":\"ndarray\",\"array\":{\"type\":\"bytes\",\"data\":\"2gWDa+4IBEAEQdvFj0wEQGIuqdpu8gJAWpZUEn7+AUBbjMsCNzwFQBSflnpxLQhAgMsIFFavDEC2yIfq9zYWQDJ4869AVxtAW7wOiwfaFED4KkNmeC0TQPYmhuRksgZAqeeTyzXrBUDYmHxYFNsIQLK8qx4wDw5AiRS5ln/jD0D9ZIwPs/cRQJ8LfnYbLxRAJgHFI0wkF0Bozkww44gYQOPBFrt9aiBAxISHH1ISJED4ILpWMZ8hQA==\"},\"shape\":[23],\"dtype\":\"float64\",\"order\":\"little\"}]]}}},\"view\":{\"type\":\"object\",\"name\":\"CDSView\",\"id\":\"p5441\",\"attributes\":{\"filter\":{\"type\":\"object\",\"name\":\"AllIndices\",\"id\":\"p5442\"}}},\"glyph\":{\"type\":\"object\",\"name\":\"Line\",\"id\":\"p5437\",\"attributes\":{\"x\":{\"type\":\"field\",\"field\":\"year\"},\"y\":{\"type\":\"field\",\"field\":\"percent\"},\"line_color\":\"orange\",\"line_alpha\":0.7,\"line_width\":3}},\"nonselection_glyph\":{\"type\":\"object\",\"name\":\"Line\",\"id\":\"p5438\",\"attributes\":{\"x\":{\"type\":\"field\",\"field\":\"year\"},\"y\":{\"type\":\"field\",\"field\":\"percent\"},\"line_color\":\"orange\",\"line_alpha\":0.1,\"line_width\":3}},\"muted_glyph\":{\"type\":\"object\",\"name\":\"Line\",\"id\":\"p5439\",\"attributes\":{\"x\":{\"type\":\"field\",\"field\":\"year\"},\"y\":{\"type\":\"field\",\"field\":\"percent\"},\"line_color\":\"orange\",\"line_alpha\":0.2,\"line_width\":3}}}},{\"type\":\"object\",\"name\":\"GlyphRenderer\",\"id\":\"p5449\",\"attributes\":{\"data_source\":{\"id\":\"p5338\"},\"view\":{\"type\":\"object\",\"name\":\"CDSView\",\"id\":\"p5450\",\"attributes\":{\"filter\":{\"type\":\"object\",\"name\":\"AllIndices\",\"id\":\"p5451\"}}},\"glyph\":{\"type\":\"object\",\"name\":\"Scatter\",\"id\":\"p5446\",\"attributes\":{\"x\":{\"type\":\"field\",\"field\":\"year\"},\"y\":{\"type\":\"field\",\"field\":\"percent\"},\"size\":{\"type\":\"value\",\"value\":8},\"line_alpha\":{\"type\":\"value\",\"value\":0.7},\"fill_color\":{\"type\":\"value\",\"value\":\"orange\"},\"fill_alpha\":{\"type\":\"value\",\"value\":0.7}}},\"nonselection_glyph\":{\"type\":\"object\",\"name\":\"Scatter\",\"id\":\"p5447\",\"attributes\":{\"x\":{\"type\":\"field\",\"field\":\"year\"},\"y\":{\"type\":\"field\",\"field\":\"percent\"},\"size\":{\"type\":\"value\",\"value\":8},\"line_alpha\":{\"type\":\"value\",\"value\":0.1},\"fill_color\":{\"type\":\"value\",\"value\":\"orange\"},\"fill_alpha\":{\"type\":\"value\",\"value\":0.1},\"hatch_alpha\":{\"type\":\"value\",\"value\":0.1}}},\"muted_glyph\":{\"type\":\"object\",\"name\":\"Scatter\",\"id\":\"p5448\",\"attributes\":{\"x\":{\"type\":\"field\",\"field\":\"year\"},\"y\":{\"type\":\"field\",\"field\":\"percent\"},\"size\":{\"type\":\"value\",\"value\":8},\"line_alpha\":{\"type\":\"value\",\"value\":0.2},\"fill_color\":{\"type\":\"value\",\"value\":\"orange\"},\"fill_alpha\":{\"type\":\"value\",\"value\":0.2},\"hatch_alpha\":{\"type\":\"value\",\"value\":0.2}}}}},{\"type\":\"object\",\"name\":\"GlyphRenderer\",\"id\":\"p5481\",\"attributes\":{\"data_source\":{\"type\":\"object\",\"name\":\"ColumnDataSource\",\"id\":\"p5341\",\"attributes\":{\"selected\":{\"type\":\"object\",\"name\":\"Selection\",\"id\":\"p5343\",\"attributes\":{\"indices\":[],\"line_indices\":[]}},\"selection_policy\":{\"type\":\"object\",\"name\":\"UnionRenderers\",\"id\":\"p5342\"},\"data\":{\"type\":\"map\",\"entries\":[[\"index\",{\"type\":\"ndarray\",\"array\":{\"type\":\"bytes\",\"data\":\"AAAAAAEAAAACAAAAAwAAAAQAAAAFAAAABgAAAAcAAAAIAAAACQAAAAoAAAALAAAADAAAAA0AAAAOAAAADwAAABAAAAARAAAAEgAAABMAAAAUAAAAFQAAABYAAAA=\"},\"shape\":[23],\"dtype\":\"int32\",\"order\":\"little\"}],[\"year\",{\"type\":\"ndarray\",\"array\":[\"2000\",\"2001\",\"2002\",\"2003\",\"2004\",\"2005\",\"2006\",\"2007\",\"2008\",\"2009\",\"2010\",\"2011\",\"2012\",\"2013\",\"2014\",\"2015\",\"2016\",\"2017\",\"2018\",\"2019\",\"2020\",\"2021\",\"2022\"],\"shape\":[23],\"dtype\":\"object\",\"order\":\"little\"}],[\"fraction\",{\"type\":\"ndarray\",\"array\":{\"type\":\"bytes\",\"data\":\"+tFKAzpxtj9OkcJDuEyyP1r34MznkJ0/+VYhbhkzmz84cdyj49yqPwKKibQqFbc/hj33Yks2vj+uuC64w/+8P7gXlhRfOrU/6uwiVMJ2pz82tWQ85/qmP4I9yOCYTbA/iC0X00c+tD9op3fVKa24Pz6uVOpuq7I/IcjAiB2Qtz/T/EpK7u64P3g/x3fESbU/U9oYxNIDvj+03bosfOnBP11ugRthRcA/FS2PIT9c0T/3WtU0HTHPPw==\"},\"shape\":[23],\"dtype\":\"float64\",\"order\":\"little\"}],[\"percent\",{\"type\":\"ndarray\",\"array\":{\"type\":\"bytes\",\"data\":\"C3SSUnWIIUAKA+Dp35ccQD7BDxg1GQdA8wsK3us/BUB0OATYkfwUQNJzC12JCCJAEShR5WqaJ0BIgOTn0KcmQIhCFUialSBAF0m70cdUEkCSrS6nBPQRQBvgON8+eRlAJDfUOVChH0DJesWuSEcjQEFQJE7dKx1AWpzWEpdoIkCFlQoqqnojQJapk32hoSBAkWozqfxyJ0Bp+uMF0vwrQHE8+rpnbClAcbZvpCIgO0ARr0bRXl44QA==\"},\"shape\":[23],\"dtype\":\"float64\",\"order\":\"little\"}]]}}},\"view\":{\"type\":\"object\",\"name\":\"CDSView\",\"id\":\"p5482\",\"attributes\":{\"filter\":{\"type\":\"object\",\"name\":\"AllIndices\",\"id\":\"p5483\"}}},\"glyph\":{\"type\":\"object\",\"name\":\"Line\",\"id\":\"p5478\",\"attributes\":{\"x\":{\"type\":\"field\",\"field\":\"year\"},\"y\":{\"type\":\"field\",\"field\":\"percent\"},\"line_color\":\"blue\",\"line_alpha\":0.7,\"line_width\":3}},\"nonselection_glyph\":{\"type\":\"object\",\"name\":\"Line\",\"id\":\"p5479\",\"attributes\":{\"x\":{\"type\":\"field\",\"field\":\"year\"},\"y\":{\"type\":\"field\",\"field\":\"percent\"},\"line_color\":\"blue\",\"line_alpha\":0.1,\"line_width\":3}},\"muted_glyph\":{\"type\":\"object\",\"name\":\"Line\",\"id\":\"p5480\",\"attributes\":{\"x\":{\"type\":\"field\",\"field\":\"year\"},\"y\":{\"type\":\"field\",\"field\":\"percent\"},\"line_color\":\"blue\",\"line_alpha\":0.2,\"line_width\":3}}}},{\"type\":\"object\",\"name\":\"GlyphRenderer\",\"id\":\"p5490\",\"attributes\":{\"data_source\":{\"id\":\"p5341\"},\"view\":{\"type\":\"object\",\"name\":\"CDSView\",\"id\":\"p5491\",\"attributes\":{\"filter\":{\"type\":\"object\",\"name\":\"AllIndices\",\"id\":\"p5492\"}}},\"glyph\":{\"type\":\"object\",\"name\":\"Scatter\",\"id\":\"p5487\",\"attributes\":{\"x\":{\"type\":\"field\",\"field\":\"year\"},\"y\":{\"type\":\"field\",\"field\":\"percent\"},\"size\":{\"type\":\"value\",\"value\":8},\"line_alpha\":{\"type\":\"value\",\"value\":0.7},\"fill_color\":{\"type\":\"value\",\"value\":\"blue\"},\"fill_alpha\":{\"type\":\"value\",\"value\":0.7},\"marker\":{\"type\":\"value\",\"value\":\"square\"}}},\"nonselection_glyph\":{\"type\":\"object\",\"name\":\"Scatter\",\"id\":\"p5488\",\"attributes\":{\"x\":{\"type\":\"field\",\"field\":\"year\"},\"y\":{\"type\":\"field\",\"field\":\"percent\"},\"size\":{\"type\":\"value\",\"value\":8},\"line_alpha\":{\"type\":\"value\",\"value\":0.1},\"fill_color\":{\"type\":\"value\",\"value\":\"blue\"},\"fill_alpha\":{\"type\":\"value\",\"value\":0.1},\"hatch_alpha\":{\"type\":\"value\",\"value\":0.1},\"marker\":{\"type\":\"value\",\"value\":\"square\"}}},\"muted_glyph\":{\"type\":\"object\",\"name\":\"Scatter\",\"id\":\"p5489\",\"attributes\":{\"x\":{\"type\":\"field\",\"field\":\"year\"},\"y\":{\"type\":\"field\",\"field\":\"percent\"},\"size\":{\"type\":\"value\",\"value\":8},\"line_alpha\":{\"type\":\"value\",\"value\":0.2},\"fill_color\":{\"type\":\"value\",\"value\":\"blue\"},\"fill_alpha\":{\"type\":\"value\",\"value\":0.2},\"hatch_alpha\":{\"type\":\"value\",\"value\":0.2},\"marker\":{\"type\":\"value\",\"value\":\"square\"}}}}},{\"type\":\"object\",\"name\":\"GlyphRenderer\",\"id\":\"p5530\",\"attributes\":{\"data_source\":{\"type\":\"object\",\"name\":\"ColumnDataSource\",\"id\":\"p5344\",\"attributes\":{\"selected\":{\"type\":\"object\",\"name\":\"Selection\",\"id\":\"p5346\",\"attributes\":{\"indices\":[],\"line_indices\":[]}},\"selection_policy\":{\"type\":\"object\",\"name\":\"UnionRenderers\",\"id\":\"p5345\"},\"data\":{\"type\":\"map\",\"entries\":[[\"index\",{\"type\":\"ndarray\",\"array\":{\"type\":\"bytes\",\"data\":\"AAAAAAEAAAACAAAAAwAAAAQAAAAFAAAABgAAAAcAAAAIAAAACQAAAAoAAAALAAAADAAAAA0AAAAOAAAADwAAABAAAAARAAAAEgAAABMAAAAUAAAAFQAAABYAAAA=\"},\"shape\":[23],\"dtype\":\"int32\",\"order\":\"little\"}],[\"year\",{\"type\":\"ndarray\",\"array\":[\"2000\",\"2001\",\"2002\",\"2003\",\"2004\",\"2005\",\"2006\",\"2007\",\"2008\",\"2009\",\"2010\",\"2011\",\"2012\",\"2013\",\"2014\",\"2015\",\"2016\",\"2017\",\"2018\",\"2019\",\"2020\",\"2021\",\"2022\"],\"shape\":[23],\"dtype\":\"object\",\"order\":\"little\"}],[\"fraction\",{\"type\":\"ndarray\",\"array\":{\"type\":\"bytes\",\"data\":\"FDWbPnDSoD8RjjjoO42eP4usGT+r0Zk/ZL0REKVTnz+G82SPNN63P6iPfgOsuLQ/u29rwUExvj/viZH/q0nEP3ZW00HTnLk/E4tmBYlkrj8R3XkDSMSyP+0ihPuMgbY/SS/9Wn3GuT+FjiXFKtK5P+TdoNwHt7E/txfvzKZRvD+vmvazqdHDP+133zM9YcY/M7sAkQT1wT8CduSNHZXGP3NSar9N8Ms/T06t8atv2j8Ui8Z3tV7VPw==\"},\"shape\":[23],\"dtype\":\"float64\",\"order\":\"little\"}],[\"percent\",{\"type\":\"ndarray\",\"array\":{\"type\":\"bytes\",\"data\":\"74LSYc9ICkD9LmzNVt4HQM0OTMnNKwRA9tuN9Fh5CEBB3gYQmaUiQDvgumJGMCBASu8bX3uWJ0CFZ1O/HLMvQIwbbQuFAiRApxw4DIu+F0BraW6FsFIdQEk7fyQ2lSFA8cwV7xEjJEBYVwVqMSwkQLRau0j8rRtAh8oaUMofJkCxUTEpmfcuQLGVhtD3ezFAgCSRItcOLEAyfNoWf6QxQGoQi7280zVALmXPVD6nRECoHJPF/bFAQA==\"},\"shape\":[23],\"dtype\":\"float64\",\"order\":\"little\"}]]}}},\"view\":{\"type\":\"object\",\"name\":\"CDSView\",\"id\":\"p5531\",\"attributes\":{\"filter\":{\"type\":\"object\",\"name\":\"AllIndices\",\"id\":\"p5532\"}}},\"glyph\":{\"type\":\"object\",\"name\":\"Line\",\"id\":\"p5527\",\"attributes\":{\"x\":{\"type\":\"field\",\"field\":\"year\"},\"y\":{\"type\":\"field\",\"field\":\"percent\"},\"line_color\":\"orange\",\"line_alpha\":0.7,\"line_width\":3}},\"nonselection_glyph\":{\"type\":\"object\",\"name\":\"Line\",\"id\":\"p5528\",\"attributes\":{\"x\":{\"type\":\"field\",\"field\":\"year\"},\"y\":{\"type\":\"field\",\"field\":\"percent\"},\"line_color\":\"orange\",\"line_alpha\":0.1,\"line_width\":3}},\"muted_glyph\":{\"type\":\"object\",\"name\":\"Line\",\"id\":\"p5529\",\"attributes\":{\"x\":{\"type\":\"field\",\"field\":\"year\"},\"y\":{\"type\":\"field\",\"field\":\"percent\"},\"line_color\":\"orange\",\"line_alpha\":0.2,\"line_width\":3}}}},{\"type\":\"object\",\"name\":\"GlyphRenderer\",\"id\":\"p5539\",\"attributes\":{\"data_source\":{\"id\":\"p5344\"},\"view\":{\"type\":\"object\",\"name\":\"CDSView\",\"id\":\"p5540\",\"attributes\":{\"filter\":{\"type\":\"object\",\"name\":\"AllIndices\",\"id\":\"p5541\"}}},\"glyph\":{\"type\":\"object\",\"name\":\"Scatter\",\"id\":\"p5536\",\"attributes\":{\"x\":{\"type\":\"field\",\"field\":\"year\"},\"y\":{\"type\":\"field\",\"field\":\"percent\"},\"size\":{\"type\":\"value\",\"value\":8},\"line_alpha\":{\"type\":\"value\",\"value\":0.7},\"fill_color\":{\"type\":\"value\",\"value\":\"orange\"},\"fill_alpha\":{\"type\":\"value\",\"value\":0.7},\"marker\":{\"type\":\"value\",\"value\":\"square\"}}},\"nonselection_glyph\":{\"type\":\"object\",\"name\":\"Scatter\",\"id\":\"p5537\",\"attributes\":{\"x\":{\"type\":\"field\",\"field\":\"year\"},\"y\":{\"type\":\"field\",\"field\":\"percent\"},\"size\":{\"type\":\"value\",\"value\":8},\"line_alpha\":{\"type\":\"value\",\"value\":0.1},\"fill_color\":{\"type\":\"value\",\"value\":\"orange\"},\"fill_alpha\":{\"type\":\"value\",\"value\":0.1},\"hatch_alpha\":{\"type\":\"value\",\"value\":0.1},\"marker\":{\"type\":\"value\",\"value\":\"square\"}}},\"muted_glyph\":{\"type\":\"object\",\"name\":\"Scatter\",\"id\":\"p5538\",\"attributes\":{\"x\":{\"type\":\"field\",\"field\":\"year\"},\"y\":{\"type\":\"field\",\"field\":\"percent\"},\"size\":{\"type\":\"value\",\"value\":8},\"line_alpha\":{\"type\":\"value\",\"value\":0.2},\"fill_color\":{\"type\":\"value\",\"value\":\"orange\"},\"fill_alpha\":{\"type\":\"value\",\"value\":0.2},\"hatch_alpha\":{\"type\":\"value\",\"value\":0.2},\"marker\":{\"type\":\"value\",\"value\":\"square\"}}}}},{\"type\":\"object\",\"name\":\"GlyphRenderer\",\"id\":\"p5587\",\"attributes\":{\"data_source\":{\"type\":\"object\",\"name\":\"ColumnDataSource\",\"id\":\"p5581\",\"attributes\":{\"selected\":{\"type\":\"object\",\"name\":\"Selection\",\"id\":\"p5583\",\"attributes\":{\"indices\":[],\"line_indices\":[]}},\"selection_policy\":{\"type\":\"object\",\"name\":\"UnionRenderers\",\"id\":\"p5582\"},\"data\":{\"type\":\"map\"}}},\"view\":{\"type\":\"object\",\"name\":\"CDSView\",\"id\":\"p5588\",\"attributes\":{\"filter\":{\"type\":\"object\",\"name\":\"AllIndices\",\"id\":\"p5589\"}}},\"glyph\":{\"type\":\"object\",\"name\":\"Segment\",\"id\":\"p5584\",\"attributes\":{\"x0\":{\"type\":\"value\",\"value\":2021.2},\"y0\":{\"type\":\"value\",\"value\":-1.30721426},\"x1\":{\"type\":\"value\",\"value\":2021.2},\"y1\":{\"type\":\"value\",\"value\":43.335818460000006},\"line_color\":{\"type\":\"value\",\"value\":\"gray\"},\"line_width\":{\"type\":\"value\",\"value\":2},\"line_dash\":{\"type\":\"value\",\"value\":\"6 2\"}}},\"nonselection_glyph\":{\"type\":\"object\",\"name\":\"Segment\",\"id\":\"p5585\",\"attributes\":{\"x0\":{\"type\":\"value\",\"value\":2021.2},\"y0\":{\"type\":\"value\",\"value\":-1.30721426},\"x1\":{\"type\":\"value\",\"value\":2021.2},\"y1\":{\"type\":\"value\",\"value\":43.335818460000006},\"line_color\":{\"type\":\"value\",\"value\":\"gray\"},\"line_alpha\":{\"type\":\"value\",\"value\":0.1},\"line_width\":{\"type\":\"value\",\"value\":2},\"line_dash\":{\"type\":\"value\",\"value\":\"6 2\"}}},\"muted_glyph\":{\"type\":\"object\",\"name\":\"Segment\",\"id\":\"p5586\",\"attributes\":{\"x0\":{\"type\":\"value\",\"value\":2021.2},\"y0\":{\"type\":\"value\",\"value\":-1.30721426},\"x1\":{\"type\":\"value\",\"value\":2021.2},\"y1\":{\"type\":\"value\",\"value\":43.335818460000006},\"line_color\":{\"type\":\"value\",\"value\":\"gray\"},\"line_alpha\":{\"type\":\"value\",\"value\":0.2},\"line_width\":{\"type\":\"value\",\"value\":2},\"line_dash\":{\"type\":\"value\",\"value\":\"6 2\"}}}}}],\"toolbar\":{\"type\":\"object\",\"name\":\"Toolbar\",\"id\":\"p5352\",\"attributes\":{\"tools\":[{\"type\":\"object\",\"name\":\"PanTool\",\"id\":\"p5379\"},{\"type\":\"object\",\"name\":\"WheelZoomTool\",\"id\":\"p5380\"},{\"type\":\"object\",\"name\":\"BoxZoomTool\",\"id\":\"p5381\",\"attributes\":{\"overlay\":{\"type\":\"object\",\"name\":\"BoxAnnotation\",\"id\":\"p5382\",\"attributes\":{\"syncable\":false,\"level\":\"overlay\",\"visible\":false,\"left_units\":\"canvas\",\"right_units\":\"canvas\",\"bottom_units\":\"canvas\",\"top_units\":\"canvas\",\"line_color\":\"black\",\"line_alpha\":1.0,\"line_width\":2,\"line_dash\":[4,4],\"fill_color\":\"lightgrey\",\"fill_alpha\":0.5}}}},{\"type\":\"object\",\"name\":\"SaveTool\",\"id\":\"p5383\"},{\"type\":\"object\",\"name\":\"ResetTool\",\"id\":\"p5384\"},{\"type\":\"object\",\"name\":\"HelpTool\",\"id\":\"p5385\"},{\"type\":\"object\",\"name\":\"HoverTool\",\"id\":\"p5591\",\"attributes\":{\"toggleable\":false,\"renderers\":\"auto\",\"tooltips\":[[\"Year\",\"@year\"],[\"Pct of gen. fund exps.\",\"@percent{0.0}%\"]]}}]}},\"toolbar_location\":null,\"left\":[{\"type\":\"object\",\"name\":\"LinearAxis\",\"id\":\"p5372\",\"attributes\":{\"ticker\":{\"type\":\"object\",\"name\":\"SingleIntervalTicker\",\"id\":\"p5397\",\"attributes\":{\"interval\":10}},\"formatter\":{\"type\":\"object\",\"name\":\"BasicTickFormatter\",\"id\":\"p5374\"},\"axis_label\":\"Percent of general fund expenditures\",\"axis_label_text_font_size\":\"12pt\",\"major_label_policy\":{\"type\":\"object\",\"name\":\"AllLabels\",\"id\":\"p5373\"},\"major_label_text_font_size\":\"12pt\"}}],\"below\":[{\"type\":\"object\",\"name\":\"LinearAxis\",\"id\":\"p5365\",\"attributes\":{\"ticker\":{\"type\":\"object\",\"name\":\"SingleIntervalTicker\",\"id\":\"p5394\",\"attributes\":{\"num_minor_ticks\":2,\"interval\":2}},\"formatter\":{\"type\":\"object\",\"name\":\"BasicTickFormatter\",\"id\":\"p5367\"},\"axis_label\":\"Year\",\"axis_label_text_font_size\":\"12pt\",\"major_label_policy\":{\"type\":\"object\",\"name\":\"AllLabels\",\"id\":\"p5366\"},\"major_label_text_font_size\":\"12pt\"}},{\"type\":\"object\",\"name\":\"Title\",\"id\":\"p5593\",\"attributes\":{\"text\":\"Source: PEW Charitable Trusts, \\\"Fiscal 50: State Trends and Analysis: Reserves and Balances\\\", updated Dec. 16, 2022\",\"text_font_size\":\"4mm\",\"text_font_style\":\"italic\"}},{\"type\":\"object\",\"name\":\"Title\",\"id\":\"p5594\",\"attributes\":{\"text\":\"        (accessed Dec. 31, 2022).\",\"text_font_size\":\"4mm\",\"text_font_style\":\"italic\"}}],\"center\":[{\"type\":\"object\",\"name\":\"Grid\",\"id\":\"p5371\",\"attributes\":{\"axis\":{\"id\":\"p5365\"},\"ticker\":{\"type\":\"object\",\"name\":\"SingleIntervalTicker\",\"id\":\"p5396\",\"attributes\":{\"interval\":2}}}},{\"type\":\"object\",\"name\":\"Grid\",\"id\":\"p5378\",\"attributes\":{\"dimension\":1,\"axis\":{\"id\":\"p5372\"},\"ticker\":{\"type\":\"object\",\"name\":\"SingleIntervalTicker\",\"id\":\"p5399\",\"attributes\":{\"interval\":10}}}},{\"type\":\"object\",\"name\":\"Legend\",\"id\":\"p5432\",\"attributes\":{\"location\":\"top_center\",\"border_line_color\":\"black\",\"border_line_alpha\":1,\"label_text_font_size\":\"5mm\",\"items\":[{\"type\":\"object\",\"name\":\"LegendItem\",\"id\":\"p5433\",\"attributes\":{\"label\":{\"type\":\"value\",\"value\":\"Rainy Day Fund, 50-state median\"},\"renderers\":[{\"id\":\"p5415\"}]}},{\"type\":\"object\",\"name\":\"LegendItem\",\"id\":\"p5474\",\"attributes\":{\"label\":{\"type\":\"value\",\"value\":\"Rainy Day Fund, Tennessee\"},\"renderers\":[{\"id\":\"p5449\"}]}},{\"type\":\"object\",\"name\":\"LegendItem\",\"id\":\"p5523\",\"attributes\":{\"label\":{\"type\":\"value\",\"value\":\"Total balances, 50-state median\"},\"renderers\":[{\"id\":\"p5490\"}]}},{\"type\":\"object\",\"name\":\"LegendItem\",\"id\":\"p5580\",\"attributes\":{\"label\":{\"type\":\"value\",\"value\":\"Total balances, Tennessee\"},\"renderers\":[{\"id\":\"p5539\"}]}}]}},{\"type\":\"object\",\"name\":\"Label\",\"id\":\"p5590\",\"attributes\":{\"text\":\"Projected\",\"text_font_size\":\"4mm\",\"x\":2021.3,\"y\":30.0}}]}}]}};\n",
       "  const render_items = [{\"docid\":\"5dcb7885-0a45-4e76-abb4-36772054bf86\",\"roots\":{\"p5347\":\"ef30aa38-736f-4ffe-95eb-efab2cf0a32d\"},\"root_ids\":[\"p5347\"]}];\n",
       "  root.Bokeh.embed.embed_items_notebook(docs_json, render_items);\n",
       "  }\n",
       "  if (root.Bokeh !== undefined) {\n",
       "    embed_document(root);\n",
       "  } else {\n",
       "    let attempts = 0;\n",
       "    const timer = setInterval(function(root) {\n",
       "      if (root.Bokeh !== undefined) {\n",
       "        clearInterval(timer);\n",
       "        embed_document(root);\n",
       "      } else {\n",
       "        attempts++;\n",
       "        if (attempts > 100) {\n",
       "          clearInterval(timer);\n",
       "          console.log(\"Bokeh: ERROR: Unable to run BokehJS code because BokehJS library is missing\");\n",
       "        }\n",
       "      }\n",
       "    }, 10, root)\n",
       "  }\n",
       "})(window);"
      ],
      "application/vnd.bokehjs_exec.v0+json": ""
     },
     "metadata": {
      "application/vnd.bokehjs_exec.v0+json": {
       "id": "p5347"
      }
     },
     "output_type": "display_data"
    }
   ],
   "source": [
    "show(fig)"
   ]
  },
  {
   "cell_type": "markdown",
   "metadata": {},
   "source": [
    "### Figure 2. Estimated 2022 rainy day fund and total balances as percent of general fund expenditure by state in order of rainy day fund balances, highlighting Tennessee"
   ]
  },
  {
   "cell_type": "code",
   "execution_count": null,
   "metadata": {},
   "outputs": [],
   "source": []
  }
 ],
 "metadata": {
  "colab": {
   "provenance": []
  },
  "kernelspec": {
   "display_name": "Python 3 (ipykernel)",
   "language": "python",
   "name": "python3"
  },
  "language_info": {
   "codemirror_mode": {
    "name": "ipython",
    "version": 3
   },
   "file_extension": ".py",
   "mimetype": "text/x-python",
   "name": "python",
   "nbconvert_exporter": "python",
   "pygments_lexer": "ipython3",
   "version": "3.10.8"
  },
  "vscode": {
   "interpreter": {
    "hash": "124665b773f1dee03882ad51847a095d598c85c5cd5b135bc0c6df4c6316f3db"
   }
  }
 },
 "nbformat": 4,
 "nbformat_minor": 1
}
