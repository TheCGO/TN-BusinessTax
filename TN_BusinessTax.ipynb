{
 "cells": [
  {
   "cell_type": "markdown",
   "metadata": {
    "id": "EIBsVBIXc7Q8"
   },
   "source": [
    "# Simulating the Effects of TN Business Tax Reform on Investment Incentives\n",
    "### Jason DeBacker and Richard W. Evans, December 22, 2022\n",
    "\n",
    "Important features of TN business tax system:\n",
    "* 3 components:\n",
    "  1. \"Excise Tax\"\n",
    "    * Essentailly a CIT\n",
    "    * Rate is 6.5%\n",
    "    * Depreciation handled under same rules as IRC *EXCEPT* no bonus depreciation.\n",
    "  2. Franchise tax\n",
    "    * Tax on the value of assets of the business\n",
    "    * Rate is 0.26%\n",
    "  3. Business tax\n",
    "    * Tax on the gross receipts of the business\n",
    "    * Some industries (e.g., utilities) handled differently\n",
    "    * Rate varies (see [here, p. 62](https://www.tn.gov/content/dam/tn/revenue/documents/tax_manuals/august-2022/Business-Tax.pdf))\n",
    "      * Varies between 0.02% and 0.3% (depends on industry)\n",
    "\n",
    "\n",
    "  Computing the cost-of-capital at the state-level:\n",
    "  * the statutory rate used will be the sum of the federal and state CIT\n",
    "    * But can deduct state taxes at federal level\n",
    "    * So maybe rate is Fed Rate + State rate - fed rate * state rate?\n",
    "  * franchise tax can use the wealth tax parameter in CCC\n",
    "  * The interaction of state and federal is not something I want to rush into CCC, so we'll do most of the calculations here by functions defined in this notebook (with a bit of assistance from a couple CCC functions.\n",
    "\n",
    "\n",
    "Equation for the cost of capital at when considering state taxes in TN:\n",
    "$$\n",
    "\\rho = \\left[\\frac{(r-\\pi-\\delta)(1-k)(1-u^fz^f-u^sz^s + u^fu^sz^s)}{(1-u^f-u^s+u^fu^s)} + w \\right] / (1-\\tau^{GR})\n",
    "$$\n",
    "where:\n",
    "* $\\rho$ = the cost of capital\n",
    "* $r$ =the nominal discount rate\n",
    "* $\\pi$ = the inflation rate\n",
    "* $k$ = the investment tax credit rate\n",
    "* $u^f$ = the statutory CIT rate at the federal level \n",
    "* $u^s$ = the statutory CIT rate at the state level \n",
    "* $z^f$ = the NPV of depreciation deduction under federal system\n",
    "* $z^s$ = the NPV of depreciation deduction under state system\n",
    "* $w$ = the property tax rate\n",
    "* $\\tau^{GR}$ = the gross receipts tax rate\n",
    "\n",
    "Calibration:\n",
    "\n",
    "| Parameter     | Value | Source |\n",
    "| ----------- | ----------- |----------- |\n",
    "| $r$     | 0.06      | To give real return of 4\\%|\n",
    "| $\\pi$  | 0.02      | Fed target|\n",
    "| $k$  | 0.0        | No general invest tax credit at federal or state level|\n",
    "| $u^f$  | 0.21       | Federal IRC|\n",
    "| $u^s$  | 0.065       | Excise tax rate in TN law|\n",
    "| $z^f$  | Varies        | Federal IRC|\n",
    "| $z^s$  |   Varies      | Like Federal IRC, but no bonus deprec|\n",
    "| $w$  | 0.0026       | Franchise tax rate in TN law |\n",
    "| $\\tau^{GR}$  | 0.0002-0.003       | Bus tax rate in TN law|\n",
    "\n"
   ]
  },
  {
   "cell_type": "code",
   "execution_count": null,
   "metadata": {
    "id": "_t-_pFeOZCDR"
   },
   "outputs": [],
   "source": [
    "!pip install cost-of-capital-calculator &> /dev/null\n",
    "!pip install taxcalc &> /dev/null \n",
    "!pip install bokeh &> /dev/null"
   ]
  },
  {
   "cell_type": "markdown",
   "metadata": {
    "id": "2qmfg6kv8WHN"
   },
   "source": [
    "Now we'll import the Python packages and modules we'll work with:"
   ]
  },
  {
   "cell_type": "code",
   "execution_count": null,
   "metadata": {
    "id": "Tas5ZFKxbgCA"
   },
   "outputs": [],
   "source": [
    "# imports\n",
    "import ccc\n",
    "import taxcalc as tc\n",
    "import numpy as np\n",
    "import pandas as pd\n",
    "import plotly.express as px\n",
    "import plotly.io as pio\n",
    "# set template for plotting\n",
    "pio.templates.default = \"plotly_white\""
   ]
  },
  {
   "cell_type": "markdown",
   "metadata": {
    "id": "FPc-vbli8fsb"
   },
   "source": [
    "## Setup\n",
    "\n",
    "Create objects to work with"
   ]
  },
  {
   "cell_type": "code",
   "execution_count": null,
   "metadata": {
    "id": "g-V3V27Rc4Bo"
   },
   "outputs": [],
   "source": [
    "# Creating an instance of the Assets class and call it \"assets\"\n",
    "assets = ccc.data.Assets()\n",
    "# Create an instance of the DepreciationParams\n",
    "# class object and call it dp\n",
    "dp = ccc.parameters.DepreciationParams()"
   ]
  },
  {
   "cell_type": "code",
   "execution_count": null,
   "metadata": {
    "id": "7DDWmsRDowWK"
   },
   "outputs": [],
   "source": [
    "# define new cost of capital function to take into account state taxes\n",
    "def eq_coc_state(delta, z_f, z_s, w, u_f, u_s, tau_GR, inv_tax_credit, pi, r):\n",
    "    r'''\n",
    "    Compute the cost of capital\n",
    "    .. math::\n",
    "        \\rho = \\frac{\\frac{(r-\\pi+\\delta)}{1-u^f-u^s+u^fu^s}(1-u^fz^f-u^sz^s+u^fu^sz^s)+w}{(1-\\tau^GR)}-\\delta\n",
    "    Args:\n",
    "        delta (array_like): rate of economic depreciation\n",
    "        z_f (array_like): net present value of depreciation deductions for\n",
    "            $1 of investment under the federal system\n",
    "        z_s (array_like): net present value of depreciation deductions for\n",
    "            $1 of investment under the state system\n",
    "        w (scalar): property tax rate\n",
    "        u_f (scalar): statutory marginal tax rate for the first layer of\n",
    "            income taxes at the federal level\n",
    "        u_s (scalar): statutory marginal tax rate for the first layer of\n",
    "            income taxes at the state level\n",
    "        tau_GR (scalar): gross receipts tax\n",
    "        inv_tax_credit (scalar): investment tax credit rate\n",
    "        pi (scalar): inflation rate\n",
    "        r (scalar): discount rate\n",
    "    Returns:\n",
    "        rho (array_like): the cost of capital\n",
    "    '''\n",
    "    rho = (((((r - pi + delta) / (1 - u_f - u_s + u_f * u_s)) *\n",
    "           (1 - inv_tax_credit - u_f * z_f - u_s * z_s) + w) / (1 - tau_GR)) - delta)\n",
    "\n",
    "    return rho"
   ]
  },
  {
   "cell_type": "code",
   "execution_count": null,
   "metadata": {
    "id": "gQahy5bAAuzv"
   },
   "outputs": [],
   "source": [
    "# Define model parameters\n",
    "inflation_rate = 0.02 # Inflation rate\n",
    "nominal_int_rate = 0.06\n",
    "fraction_financed_w_debt = 0.0\n",
    "federal_bonus_depreciation = {\"machines\": 1.0, \"buildings\": 0.0, \"intangibles\": 1.0}\n",
    "depreciation_rates = {\"machines\": 0.1031, \"buildings\": 0.0314, \"intangibles\": 0.33}\n",
    "# Example machine: EI40, example building: SI00, example intangible: ENS3\n",
    "depreciation_lives = {\"machines\": 7, \"buildings\": 39, \"intangibles\": 3}\n",
    "depreciation_methods = {\"machines\": \"dbsl\", \"buildings\": \"sl\", \"intangibles\": \"sl\"}\n",
    "E = 0.06  # Expected after-tax return on corporate equity\n",
    "profit_rate = 0.2 # 0.2 is a 20% profit rate\n",
    "int_haircut = 0.0\n",
    "u_f = 0.21\n",
    "u_s = 0.065\n",
    "franchise_tax_rate = 0.0026\n",
    "tau_GR = 0.003 # this is the higher end 0.0002-0.003 is what TF reports, varies by industry\n",
    "inv_tax_credit = 0.0\n",
    "bonus_s = {\"machines\": 0.0, \"buildings\": 0.0, \"intangibles\": 0.0}\n"
   ]
  },
  {
   "cell_type": "code",
   "execution_count": null,
   "metadata": {
    "id": "O42yHQtvTU23"
   },
   "outputs": [],
   "source": [
    "# compute outputs\n",
    "def compute_outputs(u_s, bonus_s, franchise_tax_rate, tau_GR):\n",
    "    \"\"\"\n",
    "    This function computes the outputs of interest and allows one to change the\n",
    "    parameters of TN state law\n",
    "\n",
    "    Args:\n",
    "      u_s (scalar): statutory marginal tax rate for the first layer of\n",
    "            income taxes at the state level\n",
    "      bonus_s (dict): rates of bonus depreciation in TN by asset type\n",
    "      franchise_tax_rate (scalar): TN franchise tax\n",
    "      tau_GR (scalar): gross receipts tax\n",
    "    \"\"\"\n",
    "    out_dict = {\"machines\": {}, \"buildings\": {}, \"intangibles\": {}}\n",
    "    for k, v in depreciation_rates.items():\n",
    "        r = ccc.paramfunctions.calc_r(\n",
    "            u_f + u_s - u_f * u_s, nominal_int_rate, inflation_rate,\n",
    "            nominal_int_rate, fraction_financed_w_debt, int_haircut, E, 0.0)\n",
    "        r_prime = ccc.paramfunctions.calc_r_prime(\n",
    "            nominal_int_rate, inflation_rate, fraction_financed_w_debt, E)\n",
    "        if depreciation_methods[k] == \"dbsl\":\n",
    "            z_f = ccc.calcfunctions.dbsl(depreciation_lives[k], 2, federal_bonus_depreciation[k], r)\n",
    "            z_s = ccc.calcfunctions.dbsl(depreciation_lives[k], 2, bonus_s[k], r) \n",
    "        elif depreciation_methods[k] == \"sl\":\n",
    "            z_f = ccc.calcfunctions.sl(depreciation_lives[k], federal_bonus_depreciation[k], r)\n",
    "            z_s = ccc.calcfunctions.sl(depreciation_lives[k], bonus_s[k], r) \n",
    "        else:\n",
    "          print(\"Please enter one of: dbsl, sl\")\n",
    "          assert False\n",
    "        rho = eq_coc_state(\n",
    "                depreciation_rates[k], z_f, z_s, franchise_tax_rate,\n",
    "                u_f, u_s, tau_GR, inv_tax_credit, inflation_rate, r)\n",
    "        metr = ccc.calcfunctions.eq_metr(rho, r_prime, inflation_rate)\n",
    "        eatr = ccc.calcfunctions.eq_eatr(rho, metr, profit_rate, u_f + u_f - u_f * u_s)\n",
    "        out_dict[k][\"rho\"] = rho\n",
    "        out_dict[k][\"metr\"] = metr\n",
    "        out_dict[k][\"eatr\"] = eatr\n",
    "    return out_dict"
   ]
  },
  {
   "cell_type": "code",
   "execution_count": null,
   "metadata": {
    "id": "C37mzRCgUtav"
   },
   "outputs": [],
   "source": [
    "base_df = pd.DataFrame(compute_outputs(u_s, bonus_s, franchise_tax_rate, tau_GR))\n",
    "repealGR_df = pd.DataFrame(compute_outputs(u_s, bonus_s, franchise_tax_rate, 0.0))\n",
    "fedbonus_df = pd.DataFrame(compute_outputs(u_s, federal_bonus_depreciation, franchise_tax_rate, tau_GR))\n",
    "repealFT_df = pd.DataFrame(compute_outputs(u_s, bonus_s, 0.0, tau_GR))"
   ]
  },
  {
   "cell_type": "code",
   "execution_count": null,
   "metadata": {
    "id": "S_sLTwn_XYZp"
   },
   "outputs": [],
   "source": [
    "# Create policy names and put in one dataframe\n",
    "base_df['Policy'] = \"Current Law\"\n",
    "repealGR_df['Policy'] = \"Repeal Business Tax\"\n",
    "fedbonus_df['Policy'] = \"Follow Federal Bonus Depreciation\"\n",
    "repealFT_df['Policy'] = \"Repeal Franchise Tax\"\n",
    "# append dataframes together\n",
    "df = pd.concat([base_df, repealGR_df, fedbonus_df, repealFT_df])\n",
    "df.reset_index(inplace=True)\n",
    "df.rename(columns={\"index\": \"output_var\"}, inplace=True)\n",
    "df = pd.melt(df, id_vars=[\"Policy\", \"output_var\"], var_name=\"asset_type\")"
   ]
  },
  {
   "cell_type": "code",
   "execution_count": null,
   "metadata": {
    "colab": {
     "base_uri": "https://localhost:8080/",
     "height": 417
    },
    "id": "7CoFvIwXcIS6",
    "outputId": "7d047ebd-24ee-470f-d50d-c4838cf860ec"
   },
   "outputs": [],
   "source": [
    "# Plot results\n",
    "fig = px.bar(df[(df[\"output_var\"]==\"metr\") & (df[\"asset_type\"]==\"machines\")], x=\"Policy\", y=\"value\",\n",
    "             color='Policy', labels={'value':'Marginal Effective Tax Rate'}, height=400)\n",
    "fig.show()"
   ]
  },
  {
   "cell_type": "code",
   "execution_count": null,
   "metadata": {
    "colab": {
     "base_uri": "https://localhost:8080/",
     "height": 417
    },
    "id": "9vgBW0hO52CB",
    "outputId": "460145e3-71f4-403e-dc80-92ab500fb3f6"
   },
   "outputs": [],
   "source": [
    "# Plot results\n",
    "fig = px.bar(df[(df[\"output_var\"]==\"rho\") & (df[\"asset_type\"]==\"machines\")], x=\"Policy\", y=\"value\",\n",
    "             color='Policy', labels={'value':'Cost of Capital'}, height=400)\n",
    "fig.show()"
   ]
  },
  {
   "cell_type": "code",
   "execution_count": null,
   "metadata": {
    "colab": {
     "base_uri": "https://localhost:8080/",
     "height": 417
    },
    "id": "Msb8FNavdHVV",
    "outputId": "3f682dc9-6edd-4387-8337-8f69102c0ff1"
   },
   "outputs": [],
   "source": [
    "fig = px.bar(df[(df[\"output_var\"]==\"metr\") & (df[\"asset_type\"]==\"machines\")], x=\"value\", y=\"Policy\",\n",
    "             color='Policy', labels={'value':'Marginal Effective Tax Rate'}, height=400)\n",
    "fig.show()"
   ]
  },
  {
   "cell_type": "code",
   "execution_count": null,
   "metadata": {
    "colab": {
     "base_uri": "https://localhost:8080/",
     "height": 417
    },
    "id": "fqP1sn6egrcq",
    "outputId": "e753d0d6-8e3c-4419-8fce-d085d4a1642c"
   },
   "outputs": [],
   "source": [
    "fig = px.bar(df[(df[\"output_var\"]==\"metr\") & (df[\"asset_type\"]==\"machines\")], x=\"Policy\", y=\"value\",\n",
    "             color='Policy', labels={'value':'Marginal Effective Tax Rate'}, height=400)\n",
    "fig.show()"
   ]
  },
  {
   "cell_type": "code",
   "execution_count": null,
   "metadata": {
    "colab": {
     "base_uri": "https://localhost:8080/",
     "height": 417
    },
    "id": "_VWDAimFZT0-",
    "outputId": "5b6f04c0-46b3-4b58-ac68-4e27e6cf59d9"
   },
   "outputs": [],
   "source": [
    "# Plot results\n",
    "fig = px.histogram(df[(df[\"output_var\"]==\"metr\") & (df['Policy'].isin([\"Current Law\", \"Repeal Business Tax\"]))], x=\"asset_type\", y=\"value\",\n",
    "             color='Policy', barmode='group', labels={'asset_type':'Asset Type', 'value': 'Marginal Effective Tax Rate'},\n",
    "             height=400)\n",
    "fig.show()"
   ]
  },
  {
   "cell_type": "code",
   "execution_count": null,
   "metadata": {
    "colab": {
     "base_uri": "https://localhost:8080/"
    },
    "id": "j9TO10LbryyS",
    "outputId": "6250b37c-da56-4e48-9467-617c4431cf73"
   },
   "outputs": [],
   "source": [
    "# compute example results for equipment\n",
    "r = ccc.paramfunctions.calc_r(\n",
    "        u_f + u_s - u_f * u_s, nominal_int_rate, inflation_rate,\n",
    "        nominal_int_rate, fraction_financed_w_debt, int_haircut, E, 0.0)\n",
    "r_prime = ccc.paramfunctions.calc_r_prime(\n",
    "    nominal_int_rate, inflation_rate, fraction_financed_w_debt, E)\n",
    "z_f = ccc.calcfunctions.dbsl(5, 2, 1.0, r)  # 5 year asset, double declining balance, 100% bonus\n",
    "z_s = ccc.calcfunctions.dbsl(5, 2, 0.0, r)  # 5 year asset, double declining balance, no bonus\n",
    "rho = eq_coc_state(\n",
    "        depreciation_rates['machines'], z_f, z_s, franchise_tax_rate,\n",
    "        u_f, u_s, tau_GR, inv_tax_credit, inflation_rate, r)\n",
    "metr = ccc.calcfunctions.eq_metr(rho, r_prime, inflation_rate)\n",
    "eatr = ccc.calcfunctions.eq_eatr(rho, metr, profit_rate, u_f + u_f - u_f * u_s)\n",
    "print('Machines: rho = ', rho, ', metr = ', metr, ' and eatr = ', eatr)"
   ]
  },
  {
   "cell_type": "code",
   "execution_count": null,
   "metadata": {
    "colab": {
     "base_uri": "https://localhost:8080/"
    },
    "id": "A1PPzapJwHqU",
    "outputId": "c7123b69-c781-4fc9-da51-42b5b039e6f2"
   },
   "outputs": [],
   "source": [
    "# compare to federal\n",
    "r = ccc.paramfunctions.calc_r(\n",
    "        u_f + u_s - u_f * u_s, nominal_int_rate, inflation_rate,\n",
    "        nominal_int_rate, fraction_financed_w_debt, int_haircut, E, 0.0)\n",
    "r_prime = ccc.paramfunctions.calc_r_prime(\n",
    "    nominal_int_rate, inflation_rate, fraction_financed_w_debt, E)\n",
    "z_f = ccc.calcfunctions.dbsl(5, 2, 1.0, r)  # 5 year asset, double declining balance, 100% bonus\n",
    "rho = ccc.calcfunctions.eq_coc(\n",
    "        depreciation_rates['machines'], z_f, 0.0,\n",
    "        u_f, inv_tax_credit, inflation_rate, r)\n",
    "metr = ccc.calcfunctions.eq_metr(rho, r_prime, inflation_rate)\n",
    "eatr = ccc.calcfunctions.eq_eatr(rho, metr, profit_rate, u_f + u_f - u_f * u_s)\n",
    "print('Machines: rho = ', rho, ', metr = ', metr, ' and eatr = ', eatr)"
   ]
  },
  {
   "cell_type": "code",
   "execution_count": null,
   "metadata": {
    "colab": {
     "base_uri": "https://localhost:8080/",
     "height": 392
    },
    "id": "CVtzaqhLd_q4",
    "outputId": "5fb4cbe7-24bc-4784-b21e-7685c0d6c9e0"
   },
   "outputs": [],
   "source": [
    "# Create output DataFrame\n",
    "out_df = df[[\n",
    "    'country', 'corporate_rate', 'property_tax', 'r_and_d_credit',\n",
    "    'allowance_corporate_equity', 'machines_cost_recovery',\n",
    "    'buildings_cost_recovery', 'intangibles_cost_recovery']].copy()\n",
    "# Compute intermediate inputs\n",
    "out_df['r'] = ccc.paramfunctions.calc_r(\n",
    "        out_df['corporate_rate'], nominal_int_rate, inflation_rate,\n",
    "        ace_int_rate, fraction_financed_w_debt, int_haircut, E, out_df['allowance_corporate_equity'])\n",
    "out_df['r_prime'] = ccc.paramfunctions.calc_r_prime(\n",
    "    nominal_int_rate, inflation_rate, fraction_financed_w_debt, E)\n",
    "# Compute final outputs\n",
    "for k, v in depreciation_rates.items():\n",
    "    if k == 'intangibles':\n",
    "        inv_tax_credit = out_df['r_and_d_credit']  # apply R&D credit to intangibles\n",
    "    else:\n",
    "        inv_tax_credit = 0.0\n",
    "    out_df['coc_' + k] = ccc.calcfunctions.eq_coc(\n",
    "        v, out_df[k + '_cost_recovery'], prop_tax_rate,\n",
    "        out_df['corporate_rate'], inv_tax_credit, inflation_rate, out_df['r'])\n",
    "    out_df['metr_' + k] = ccc.calcfunctions.eq_metr(\n",
    "        out_df['coc_' + k], out_df['r_prime'], inflation_rate)\n",
    "    out_df['eatr_' + k] = ccc.calcfunctions.eq_eatr(\n",
    "         out_df['coc_' + k],  out_df['metr_' + k], profit_rate, out_df['corporate_rate'])"
   ]
  },
  {
   "cell_type": "code",
   "execution_count": null,
   "metadata": {
    "id": "4LJ_nzJDKsG-"
   },
   "outputs": [],
   "source": [
    "# plot METRs by country\n",
    "out_df.sort_values(by='metr_machines', inplace=True)\n",
    "fig = px.bar(out_df, x='country', y='metr_machines')\n",
    "fig.show()"
   ]
  },
  {
   "cell_type": "code",
   "execution_count": null,
   "metadata": {
    "id": "v5CXjyPkKsHB"
   },
   "outputs": [],
   "source": [
    "df"
   ]
  },
  {
   "cell_type": "markdown",
   "metadata": {},
   "source": [
    "## PEW State Balances Data"
   ]
  },
  {
   "cell_type": "code",
   "execution_count": 16,
   "metadata": {
    "id": "XzXXKzACeBR0"
   },
   "outputs": [],
   "source": [
    "import pandas as pd\n",
    "import numpy as np\n",
    "import matplotlib.pyplot as plt\n",
    "import datetime as dt\n",
    "from bokeh.io import output_file, output_notebook, export_png\n",
    "from bokeh.plotting import figure, show\n",
    "from bokeh.models import (ColumnDataSource, Title, Legend, HoverTool,\n",
    "                          NumeralTickFormatter)\n",
    "from bokeh.models.tickers import SingleIntervalTicker\n",
    "from bokeh.models.annotations import Label"
   ]
  },
  {
   "cell_type": "markdown",
   "metadata": {},
   "source": [
    "### PEW state balances data: Rainy day fund balances"
   ]
  },
  {
   "cell_type": "code",
   "execution_count": 2,
   "metadata": {},
   "outputs": [
    {
     "name": "stderr",
     "output_type": "stream",
     "text": [
      "/var/folders/d4/trj3dssd6s3g8kxvjmczz11w0000gn/T/ipykernel_9171/2235183987.py:44: SettingWithCopyWarning: \n",
      "A value is trying to be set on a copy of a slice from a DataFrame\n",
      "\n",
      "See the caveats in the documentation: https://pandas.pydata.org/pandas-docs/stable/user_guide/indexing.html#returning-a-view-versus-a-copy\n",
      "  rain_pct_df.rename(columns = {\n"
     ]
    }
   ],
   "source": [
    "# Read in the PEW data on rainy day funds by year and\n",
    "# state from worksheet\n",
    "rain_df = pd.read_excel(\n",
    "    \"data/ReservesBalancesData.xlsx\",\n",
    "    sheet_name=\"Rainy Day Fund Data\",\n",
    "    header=5,\n",
    "    index_col=0,\n",
    "    skipfooter=17\n",
    ")\n",
    "rain_df.replace(0, np.nan, inplace=True)\n",
    "\n",
    "# Create a DataFrame of just the rainy day funds in $millions\n",
    "# by state and by year\n",
    "rain_dol_df = rain_df.loc[:'Wyoming', 'FY 2000.1':'FY 2022 (estimated).1']\n",
    "rain_dol_df.rename(columns = {\n",
    "    'FY 2000.1': '2000',\n",
    "    'FY 2001.1': '2001',\n",
    "    'FY 2002.1': '2002',\n",
    "    'FY 2003.1': '2003',\n",
    "    'FY 2004.1': '2004',\n",
    "    'FY 2005.1': '2005',\n",
    "    'FY 2006.1': '2006',\n",
    "    'FY 2007.1': '2007',\n",
    "    'FY 2008.1': '2008',\n",
    "    'FY 2009.1': '2009',\n",
    "    'FY 2010.1': '2010',\n",
    "    'FY 2011.1': '2011',\n",
    "    'FY 2012.1': '2012',\n",
    "    'FY 2013.1': '2013',\n",
    "    'FY 2014.1': '2014',\n",
    "    'FY 2015.1': '2015',\n",
    "    ' FY 2016.1': '2016',\n",
    "    ' FY 2017.1': '2017',\n",
    "    ' FY 2018.1': '2018',\n",
    "    'FY 2019.1': '2019',\n",
    "    'FY 2020.1': '2020',\n",
    "    'FY 2021.1': '2021',\n",
    "    'FY 2022 (estimated).1': '2022',\n",
    "}, inplace = True)\n",
    "\n",
    "# Create a DataFrame of just the rainy day funds as a percent of\n",
    "# general fund expenditures by state and by year\n",
    "rain_pct_df = rain_df.loc[:, 'FY 2000.2':'FY 2022 (estimated).2']\n",
    "rain_pct_df.rename(columns = {\n",
    "    'FY 2000.2': '2000',\n",
    "    'FY 2001.2': '2001',\n",
    "    'FY 2002.2': '2002',\n",
    "    'FY 2003.2': '2003',\n",
    "    'FY 2004.2': '2004',\n",
    "    'FY 2005.2': '2005',\n",
    "    'FY 2006.2': '2006',\n",
    "    'FY 2007.2': '2007',\n",
    "    'FY 2008.2': '2008',\n",
    "    'FY 2009.2': '2009',\n",
    "    'FY 2010.2': '2010',\n",
    "    'FY 2011.2': '2011',\n",
    "    'FY 2012.2': '2012',\n",
    "    'FY 2013.2': '2013',\n",
    "    'FY 2014.2': '2014',\n",
    "    'FY 2015.2': '2015',\n",
    "    ' FY 2016.2': '2016',\n",
    "    ' FY 2017.2': '2017',\n",
    "    ' FY 2018.2': '2018',\n",
    "    'FY 2019.2': '2019',\n",
    "    'FY 2020.2': '2020',\n",
    "    'FY 2021.2': '2021',\n",
    "    'FY 2022 (estimated).2': '2022',\n",
    "}, inplace = True)"
   ]
  },
  {
   "cell_type": "markdown",
   "metadata": {},
   "source": [
    "### PEW state balances data: Total balances"
   ]
  },
  {
   "cell_type": "code",
   "execution_count": 3,
   "metadata": {},
   "outputs": [
    {
     "name": "stderr",
     "output_type": "stream",
     "text": [
      "/var/folders/d4/trj3dssd6s3g8kxvjmczz11w0000gn/T/ipykernel_9171/3735465516.py:44: SettingWithCopyWarning: \n",
      "A value is trying to be set on a copy of a slice from a DataFrame\n",
      "\n",
      "See the caveats in the documentation: https://pandas.pydata.org/pandas-docs/stable/user_guide/indexing.html#returning-a-view-versus-a-copy\n",
      "  totbal_pct_df.rename(columns = {\n"
     ]
    }
   ],
   "source": [
    "# Read in the PEW data on total reserves and balances\n",
    "# by year and state from worksheet\n",
    "totbal_df = pd.read_excel(\n",
    "    \"data/ReservesBalancesData.xlsx\",\n",
    "    sheet_name=\"Total Balances Data\",\n",
    "    header=5,\n",
    "    index_col=0,\n",
    "    skipfooter=17\n",
    ")\n",
    "totbal_df.replace(0, np.nan, inplace=True)\n",
    "\n",
    "# Create a DataFrame of just the total reserves and balances\n",
    "# funds in $millions by state and by year\n",
    "totbal_dol_df = totbal_df.loc[:'Wyoming', 'FY 2000.1':'FY 2022 (estimated).1']\n",
    "totbal_dol_df.rename(columns = {\n",
    "    'FY 2000.1': '2000',\n",
    "    'FY 2001.1': '2001',\n",
    "    'FY 2002.1': '2002',\n",
    "    'FY 2003.1': '2003',\n",
    "    'FY 2004.1': '2004',\n",
    "    'FY 2005.1': '2005',\n",
    "    'FY 2006.1': '2006',\n",
    "    'FY 2007.1': '2007',\n",
    "    'FY 2008.1': '2008',\n",
    "    'FY 2009.1': '2009',\n",
    "    'FY 2010.1': '2010',\n",
    "    'FY 2011.1': '2011',\n",
    "    'FY 2012.1': '2012',\n",
    "    'FY 2013.1': '2013',\n",
    "    'FY 2014.1': '2014',\n",
    "    'FY 2015.1': '2015',\n",
    "    ' FY 2016.1': '2016',\n",
    "    ' FY 2017.1': '2017',\n",
    "    ' FY 2018.1': '2018',\n",
    "    'FY 2019.1': '2019',\n",
    "    'FY 2020.1': '2020',\n",
    "    'FY 2021.1': '2021',\n",
    "    'FY 2022 (estimated).1': '2022',\n",
    "}, inplace = True)\n",
    "\n",
    "# Create a DataFrame of just the total reserves and balances funds\n",
    "# as a percent of general fund expenditures by state and by year\n",
    "totbal_pct_df = totbal_df.loc[:, 'FY 2000.2':'FY 2022 (estimated).2']\n",
    "totbal_pct_df.rename(columns = {\n",
    "    'FY 2000.2': '2000',\n",
    "    'FY 2001.2': '2001',\n",
    "    'FY 2002.2': '2002',\n",
    "    'FY 2003.2': '2003',\n",
    "    'FY 2004.2': '2004',\n",
    "    'FY 2005.2': '2005',\n",
    "    'FY 2006.2': '2006',\n",
    "    'FY 2007.2': '2007',\n",
    "    'FY 2008.2': '2008',\n",
    "    'FY 2009.2': '2009',\n",
    "    'FY 2010.2': '2010',\n",
    "    'FY 2011.2': '2011',\n",
    "    'FY 2012.2': '2012',\n",
    "    'FY 2013.2': '2013',\n",
    "    'FY 2014.2': '2014',\n",
    "    'FY 2015.2': '2015',\n",
    "    ' FY 2016.2': '2016',\n",
    "    ' FY 2017.2': '2017',\n",
    "    ' FY 2018.2': '2018',\n",
    "    'FY 2019.2': '2019',\n",
    "    'FY 2020.2': '2020',\n",
    "    'FY 2021.2': '2021',\n",
    "    'FY 2022 (estimated).2': '2022',\n",
    "}, inplace = True)"
   ]
  },
  {
   "cell_type": "markdown",
   "metadata": {},
   "source": [
    "### Figure 1. Plot time series of rainy day funds and total balances as percent of general fund expenditures for both the 50-state median and for Tennessee\n",
    "Executing the cell below will create the `rain_totbal_50_tn_timeseries.html` file in your `/images/` folder and open that file as a browser window. I created the `.png` version of the file by just screenshotting the `.html` image."
   ]
  },
  {
   "cell_type": "code",
   "execution_count": 17,
   "metadata": {},
   "outputs": [],
   "source": [
    "rain_pct_50_df = rain_pct_df.loc[\"50-state median\", :].to_frame().reset_index()\n",
    "rain_pct_50_df.rename(columns = {\"index\":\"year\", \"50-state median\":\"fraction\"}, inplace = True)\n",
    "rain_pct_50_df[\"percent\"] = 100 * rain_pct_50_df[\"fraction\"]\n",
    "\n",
    "rain_pct_tn_df = rain_pct_df.loc[\"Tennessee\", :].to_frame().reset_index()\n",
    "rain_pct_tn_df.rename(columns = {\"index\":\"year\", \"Tennessee\":\"fraction\"}, inplace = True)\n",
    "rain_pct_tn_df[\"percent\"] = 100 * rain_pct_tn_df[\"fraction\"]\n",
    "\n",
    "totbal_pct_50_df = totbal_pct_df.loc[\"50-state median\", :].to_frame().reset_index()\n",
    "totbal_pct_50_df.rename(columns = {\"index\":\"year\", \"50-state median\":\"fraction\"}, inplace = True)\n",
    "totbal_pct_50_df[\"percent\"] = 100 * totbal_pct_50_df[\"fraction\"]\n",
    "\n",
    "totbal_pct_tn_df = totbal_pct_df.loc[\"Tennessee\", :].to_frame().reset_index()\n",
    "totbal_pct_tn_df.rename(columns = {'index':'year', \"Tennessee\":\"fraction\"}, inplace = True)\n",
    "totbal_pct_tn_df[\"percent\"] = 100 * totbal_pct_tn_df[\"fraction\"]\n",
    "\n",
    "fig_title = (\"Rainy Day fund and total reserves as a percentage of \" +\n",
    "             \"general fund expenditures: 2000-2022\")\n",
    "output_file(\"./images/rain_totbal_50_tn_timeseries.html\", title=fig_title)\n",
    "min_year = 2000\n",
    "max_year = 2022\n",
    "min_pct = 2.0\n",
    "max_pct = 0.0\n",
    "pct_buffer = 0.05\n",
    "\n",
    "var_list = [rain_pct_50_df, rain_pct_tn_df, totbal_pct_50_df, totbal_pct_tn_df]\n",
    "color_list = [\"blue\", \"orange\", \"blue\", \"orange\"]\n",
    "marker_list = [\"circle\", \"circle\", \"square\", \"square\"]\n",
    "legend_label_list = [\"Rainy Day Fund, 50-state median\", \"Rainy Day Fund, Tennessee\",\n",
    "                     \"Total balances, 50-state median\", \"Total balances, Tennessee\"]\n",
    "cds_list = []\n",
    "\n",
    "for k, df in enumerate(var_list):\n",
    "    min_pct = np.minimum(min_pct, df[\"percent\"].min())\n",
    "    max_pct = np.maximum(max_pct, df[\"percent\"].max())\n",
    "    cds_list.append(ColumnDataSource(df))\n",
    "\n",
    "fig = figure(title=fig_title,\n",
    "             height=600,\n",
    "             width=1000,\n",
    "             x_axis_label='Year',\n",
    "             x_range=(min_year - 1, max_year + 1),\n",
    "             y_axis_label='Percent of general fund expenditures',\n",
    "             y_range=(min_pct - pct_buffer * (max_pct - min_pct),\n",
    "                      max_pct + pct_buffer * (max_pct - min_pct)),\n",
    "             toolbar_location=None)\n",
    "\n",
    "# Set title font size and axes font sizes\n",
    "fig.title.text_font_size = '15pt'\n",
    "fig.xaxis.axis_label_text_font_size = '12pt'\n",
    "fig.xaxis.major_label_text_font_size = '12pt'\n",
    "fig.yaxis.axis_label_text_font_size = '12pt'\n",
    "fig.yaxis.major_label_text_font_size = '12pt'\n",
    "\n",
    "# Modify tick intervals for X-axis and Y-axis\n",
    "fig.xaxis.ticker = SingleIntervalTicker(interval=2, num_minor_ticks=2)\n",
    "fig.xgrid.ticker = SingleIntervalTicker(interval=2)\n",
    "fig.yaxis.ticker = SingleIntervalTicker(interval=10, num_minor_ticks=5)\n",
    "fig.ygrid.ticker = SingleIntervalTicker(interval=10)\n",
    "\n",
    "# Create lines and markers for time series\n",
    "for k, yvar in enumerate(var_list):\n",
    "    fig.line(x='year', y='percent', source=cds_list[k], color=color_list[k],\n",
    "            line_width=3, alpha=0.7)\n",
    "    fig.scatter(x='year', y='percent', source=cds_list[k], size=8,\n",
    "                line_width=1, line_color='black', fill_color=color_list[k],\n",
    "                marker=marker_list[k], line_alpha=0.7, fill_alpha=0.7,\n",
    "                legend_label=legend_label_list[k])\n",
    "\n",
    "fig.segment(x0=2021.2, y0=min_pct - pct_buffer * (max_pct - min_pct),\n",
    "            x1=2021.2, y1=max_pct + pct_buffer * (max_pct - min_pct),\n",
    "            color='gray', line_dash='6 2', line_width=2)\n",
    "    \n",
    "label_temp = Label(x=2021.3, y=30.0, x_units='data', y_units='data',\n",
    "                   text='Projected', text_font_size='4mm')\n",
    "fig.add_layout(label_temp)\n",
    "\n",
    "# Add information on hover\n",
    "tooltips = [('Year', '@year'),\n",
    "            ('Pct of general fund exps.','@percent{0.0}' + '%')]\n",
    "fig.add_tools(HoverTool(tooltips=tooltips, toggleable=False))\n",
    "\n",
    "# Add legend\n",
    "fig.legend.location = 'top_center'\n",
    "fig.legend.border_line_width = 1\n",
    "fig.legend.border_line_color = 'black'\n",
    "fig.legend.border_line_alpha = 1\n",
    "fig.legend.label_text_font_size = '4mm'\n",
    "\n",
    "# Add notes below image\n",
    "note_text_list = [\n",
    "    (\n",
    "        'Source: PEW Charitable Trusts, \"Fiscal 50: State Trends and Analysis: ' +\n",
    "        'Reserves and Balances\", updated Dec. 16, 2022'\n",
    "    ),\n",
    "    ('        (accessed Dec. 31, 2022).')    \n",
    "]\n",
    "for note_text in note_text_list:\n",
    "    caption = Title(text=note_text, align='left', text_font_size='4mm',\n",
    "                    text_font_style='italic')\n",
    "    fig.add_layout(caption, 'below')\n",
    "\n",
    "# # This export_png() function requires selenium package as well as firefox\n",
    "# # and geckodriver packages\n",
    "# # (see https://docs.bokeh.org/en/3.0.3/docs/user_guide/output/export.html)\n",
    "# export_png(fig, filename=\"/images/rain_totbal_50_tn_timeseries.png\")\n",
    "\n",
    "show(fig)"
   ]
  },
  {
   "cell_type": "markdown",
   "metadata": {},
   "source": [
    "#### Bokeh"
   ]
  },
  {
   "cell_type": "code",
   "execution_count": null,
   "metadata": {},
   "outputs": [],
   "source": []
  },
  {
   "cell_type": "markdown",
   "metadata": {},
   "source": [
    "#### Matplotlib"
   ]
  },
  {
   "cell_type": "code",
   "execution_count": null,
   "metadata": {},
   "outputs": [],
   "source": [
    "plt.plot(\n",
    "    np.arange(2000, 2023), rain_pct_50, '--', color=\"blue\",\n",
    "    label=\"Rainy day fund: 50-state median\"\n",
    ")\n",
    "plt.plot(\n",
    "    np.arange(2000, 2023), rain_pct_tn, '--', color=\"orange\",\n",
    "    label=\"Rainy day fund: Tennessee\"\n",
    ")\n",
    "plt.plot(\n",
    "    np.arange(2000, 2023), totbal_pct_50, ':', color=\"blue\",\n",
    "    label=\"Total reserves and balances: 50-state median\"\n",
    ")\n",
    "plt.plot(\n",
    "    np.arange(2000, 2023), totbal_pct_tn, ':', color=\"orange\",\n",
    "    label=\"Total reserves and balances: Tennessee\"\n",
    ")\n",
    "plt.legend(loc=\"upper left\")\n",
    "plt.title(r\"Rainy Day fund and total reserves as a percentage of general fund expenditures: 2000-2022\")\n",
    "plt.xlabel(r\"Year\")\n",
    "plt.ylabel(r\"Percent\")"
   ]
  },
  {
   "cell_type": "code",
   "execution_count": null,
   "metadata": {},
   "outputs": [],
   "source": []
  }
 ],
 "metadata": {
  "colab": {
   "provenance": []
  },
  "kernelspec": {
   "display_name": "Python 3 (ipykernel)",
   "language": "python",
   "name": "python3"
  },
  "language_info": {
   "codemirror_mode": {
    "name": "ipython",
    "version": 3
   },
   "file_extension": ".py",
   "mimetype": "text/x-python",
   "name": "python",
   "nbconvert_exporter": "python",
   "pygments_lexer": "ipython3",
   "version": "3.10.8"
  },
  "vscode": {
   "interpreter": {
    "hash": "124665b773f1dee03882ad51847a095d598c85c5cd5b135bc0c6df4c6316f3db"
   }
  }
 },
 "nbformat": 4,
 "nbformat_minor": 1
}
